{
 "cells": [
  {
   "cell_type": "code",
   "execution_count": 1,
   "id": "8115adf1-b9de-4998-accf-24cf20d8705d",
   "metadata": {},
   "outputs": [
    {
     "name": "stdout",
     "output_type": "stream",
     "text": [
      "  transaction_number transaction_datetime transaction_type_en  \\\n",
      "0        102-10-2024  2024-01-11 11:05:38               Sales   \n",
      "1      102-1000-2024  2024-01-08 18:00:51               Sales   \n",
      "2      102-1001-2024  2024-01-08 18:00:57               Sales   \n",
      "3      102-1002-2024  2024-01-08 18:01:03               Sales   \n",
      "4      102-1003-2024  2024-01-08 18:01:07               Sales   \n",
      "\n",
      "   transaction_type_id   transaction_subtype_en  transaction_subtype_id  \\\n",
      "0                    1  Sell - Pre registration                       0   \n",
      "1                    1  Sell - Pre registration                       0   \n",
      "2                    1  Sell - Pre registration                       0   \n",
      "3                    1  Sell - Pre registration                       0   \n",
      "4                    1  Sell - Pre registration                       0   \n",
      "\n",
      "  registration_type_en is_freehold_text property_usage_en  property_usage_id  \\\n",
      "0             Off-Plan        Free Hold       Residential                  1   \n",
      "1             Off-Plan        Free Hold       Residential                  1   \n",
      "2             Off-Plan    Non Free Hold       Residential                  1   \n",
      "3             Off-Plan        Free Hold       Residential                  1   \n",
      "4             Off-Plan        Free Hold       Residential                  1   \n",
      "\n",
      "   ...       nearest_metro_en    nearest_metro_ar       nearest_mall_en  \\\n",
      "0  ...    Dubai Internet City  مدينة دبي للإنترنت  Mall of the Emirates   \n",
      "1  ...  Nakheel Metro Station    محطة مترو النخيل           Marina Mall   \n",
      "2  ...                    NaN                 NaN                   NaN   \n",
      "3  ...                    NaN                 NaN                   NaN   \n",
      "4  ...                    NaN                 NaN                   NaN   \n",
      "\n",
      "   nearest_mall_ar  master_project_en  master_project_ar    req_from  \\\n",
      "0     مول الإمارات                NaN                NaN  2024-01-01   \n",
      "1       مارينا مول                NaN                NaN  2024-01-01   \n",
      "2              NaN                NaN                NaN  2024-01-01   \n",
      "3              NaN                NaN                NaN  2024-01-01   \n",
      "4              NaN                NaN                NaN  2024-01-01   \n",
      "\n",
      "       req_to entry_id                  meta_ts  \n",
      "0  2024-01-31    94359  2024-09-26 09:45:23.369  \n",
      "1  2024-01-31    94359  2024-09-26 09:45:23.369  \n",
      "2  2024-01-31    94359  2024-09-26 09:45:23.369  \n",
      "3  2024-01-31    94359  2024-09-26 09:45:23.369  \n",
      "4  2024-01-31    94359  2024-09-26 09:45:23.369  \n",
      "\n",
      "[5 rows x 46 columns]\n"
     ]
    }
   ],
   "source": [
    "import pandas as pd\n",
    "\n",
    "# Specify the file path to your CSV file\n",
    "file_path = \"C:/Users/shanawaz.sa/Documents/snp_dld_2024_transactions.csv\"\n",
    "\n",
    "# Read the CSV file into a pandas DataFrame\n",
    "transactions = pd.read_csv(file_path)\n",
    "\n",
    "# Now, you can work with the DataFrame as usual\n",
    "print(transactions.head())"
   ]
  },
  {
   "cell_type": "code",
   "execution_count": 2,
   "id": "1169d352-7e0d-4c0f-8166-880c9d1ebc57",
   "metadata": {},
   "outputs": [
    {
     "name": "stderr",
     "output_type": "stream",
     "text": [
      "C:\\Users\\shanawaz.sa\\AppData\\Local\\Temp\\ipykernel_14584\\3587311467.py:7: DtypeWarning: Columns (35,36) have mixed types. Specify dtype option on import or set low_memory=False.\n",
      "  rents = pd.read_csv(file_path)\n"
     ]
    },
    {
     "name": "stdout",
     "output_type": "stream",
     "text": [
      "   ejari_contract_number    registration_date contract_start_date  \\\n",
      "0        120130625001365  2024-01-24 11:14:33          2024-01-01   \n",
      "1        120130626005726  2024-01-09 16:48:47          2024-03-18   \n",
      "2        120130626007829  2024-01-16 11:39:26          2024-01-01   \n",
      "3        120130627008661  2024-01-15 18:28:05          2024-01-01   \n",
      "4        120130627009439  2024-01-22 13:34:29          2024-01-01   \n",
      "\n",
      "  contract_end_date  version_number version_text  contract_amount  \\\n",
      "0        2024-12-31              12      Renewed          58000.0   \n",
      "1        2025-03-17              12      Renewed          88000.0   \n",
      "2        2024-12-31              12      Renewed          94000.0   \n",
      "3        2024-12-31              12      Renewed          66000.0   \n",
      "4        2024-12-31              12      Renewed          31200.0   \n",
      "\n",
      "   annual_amount is_freehold is_freehold_text  ...       nearest_mall_en  \\\n",
      "0        58000.0           f    Non Free Hold  ...    City Centre Mirdif   \n",
      "1        88000.0           t        Free Hold  ...    City Centre Mirdif   \n",
      "2        94000.0           f    Non Free Hold  ...            Dubai Mall   \n",
      "3        66000.0           f    Non Free Hold  ...  Mall of the Emirates   \n",
      "4        31200.0           f    Non Free Hold  ...    City Centre Mirdif   \n",
      "\n",
      "   nearest_mall_ar  master_project_en  master_project_ar  \\\n",
      "0   سيتي سنتر مردف                NaN                NaN   \n",
      "1   سيتي سنتر مردف                NaN                NaN   \n",
      "2          مول دبي                NaN                NaN   \n",
      "3     مول الإمارات                NaN                NaN   \n",
      "4   سيتي سنتر مردف                NaN                NaN   \n",
      "\n",
      "  ejari_property_type_id ejari_property_sub_type_id    req_from      req_to  \\\n",
      "0                      0                          0  2024-01-01  2024-01-31   \n",
      "1                      0                          0  2024-01-01  2024-01-31   \n",
      "2                      0                          0  2024-01-01  2024-01-31   \n",
      "3                      0                          0  2024-01-01  2024-01-31   \n",
      "4                      0                          0  2024-01-01  2024-01-31   \n",
      "\n",
      "  entry_id                  meta_ts  \n",
      "0    94368  2024-09-26 11:18:46.859  \n",
      "1    94368  2024-09-26 11:18:46.859  \n",
      "2    94368  2024-09-26 11:18:46.859  \n",
      "3    94368  2024-09-26 11:18:46.859  \n",
      "4    94368  2024-09-26 11:18:46.859  \n",
      "\n",
      "[5 rows x 43 columns]\n"
     ]
    }
   ],
   "source": [
    "import pandas as pd\n",
    "\n",
    "# Specify the file path to your CSV file (use raw string or forward slashes)\n",
    "file_path = r\"C:\\Users\\shanawaz.sa\\Documents\\snp_dld_2024_rents.csv\"  # or use forward slashes\n",
    "\n",
    "# Read the CSV file into a pandas DataFrame\n",
    "rents = pd.read_csv(file_path)\n",
    "\n",
    "# Now, you can work with the DataFrame as usual\n",
    "print(rents.head())  # Fixed the variable name from 'df' to 'rents'"
   ]
  },
  {
   "cell_type": "code",
   "execution_count": 3,
   "id": "8d56d525-a3fa-4092-b235-0c4c2705d1f1",
   "metadata": {},
   "outputs": [],
   "source": [
    "## Handling Missing Values"
   ]
  },
  {
   "cell_type": "code",
   "execution_count": 4,
   "id": "03dee674-191f-475b-9a18-b925ad70969a",
   "metadata": {},
   "outputs": [
    {
     "name": "stderr",
     "output_type": "stream",
     "text": [
      "C:\\Users\\shanawaz.sa\\AppData\\Local\\Temp\\ipykernel_14584\\4138310353.py:1: FutureWarning: DataFrame.fillna with 'method' is deprecated and will raise in a future version. Use obj.ffill() or obj.bfill() instead.\n",
      "  transactions.fillna(method='ffill', inplace=True)  # Forward-fill missing values\n"
     ]
    }
   ],
   "source": [
    "transactions.fillna(method='ffill', inplace=True)  # Forward-fill missing values"
   ]
  },
  {
   "cell_type": "code",
   "execution_count": 5,
   "id": "bb2b1c00-7c2e-4b57-8728-68cfe2669bd6",
   "metadata": {},
   "outputs": [
    {
     "name": "stderr",
     "output_type": "stream",
     "text": [
      "C:\\Users\\shanawaz.sa\\AppData\\Local\\Temp\\ipykernel_14584\\2559205775.py:1: FutureWarning: DataFrame.fillna with 'method' is deprecated and will raise in a future version. Use obj.ffill() or obj.bfill() instead.\n",
      "  rents.fillna(method='ffill', inplace=True)  # Forward-fill missing values\n"
     ]
    }
   ],
   "source": [
    "rents.fillna(method='ffill', inplace=True)  # Forward-fill missing values"
   ]
  },
  {
   "cell_type": "code",
   "execution_count": 6,
   "id": "ce33effe-d09c-41f5-8559-025507f79a10",
   "metadata": {},
   "outputs": [],
   "source": [
    "transactions['transaction_number'] = pd.to_numeric(transactions['transaction_number'], errors='coerce')"
   ]
  },
  {
   "cell_type": "code",
   "execution_count": 7,
   "id": "3177cfd2-a25d-47c2-8fb7-171314166a4c",
   "metadata": {},
   "outputs": [],
   "source": [
    "import pandas as pd\n",
    "import numpy as np\n",
    "\n",
    "# Impute missing numerical values with mean\n",
    "transactions['transaction_number'].fillna(transactions['transaction_number'].mean(), inplace=True)\n",
    "\n",
    "# Impute missing categorical values with mode\n",
    "transactions['transaction_number'].fillna(transactions['transaction_number'].mode(), inplace=True)"
   ]
  },
  {
   "cell_type": "code",
   "execution_count": 8,
   "id": "70795775-f9a9-4831-ba06-734089e18b44",
   "metadata": {},
   "outputs": [],
   "source": [
    "rents['transaction_number'] = pd.to_numeric(transactions['transaction_number'], errors='coerce')"
   ]
  },
  {
   "cell_type": "code",
   "execution_count": 9,
   "id": "35eb8054-926f-45ff-b50c-1eff2ccb45b1",
   "metadata": {},
   "outputs": [],
   "source": [
    "import pandas as pd\n",
    "import numpy as np\n",
    "\n",
    "# Impute missing numerical values with mean\n",
    "rents['transaction_number'].fillna(rents['transaction_number'].mean(), inplace=True)\n",
    "\n",
    "# Impute missing categorical values with mode\n",
    "rents['transaction_number'].fillna(rents['transaction_number'].mode(), inplace=True)"
   ]
  },
  {
   "cell_type": "code",
   "execution_count": 10,
   "id": "bb9d8c3e-fc74-47e7-94d1-00f263147ca0",
   "metadata": {},
   "outputs": [
    {
     "name": "stdout",
     "output_type": "stream",
     "text": [
      "Index(['transaction_number', 'transaction_datetime', 'transaction_type_en',\n",
      "       'transaction_type_id', 'transaction_subtype_en',\n",
      "       'transaction_subtype_id', 'registration_type_en', 'is_freehold_text',\n",
      "       'property_usage_en', 'property_usage_id', 'amount', 'total_buyer',\n",
      "       'total_seller', 'transaction_size_sqm', 'property_size_sqm',\n",
      "       'parcel_id', 'property_id', 'is_offplan', 'is_freehold',\n",
      "       'property_type_en', 'property_type_ar', 'property_type_id',\n",
      "       'property_subtype_en', 'property_subtype_ar', 'property_subtype_id',\n",
      "       'building_age', 'rooms_en', 'rooms_ar', 'parking', 'project_name_en',\n",
      "       'project_name_ar', 'area_en', 'area_ar', 'area_id',\n",
      "       'nearest_landmark_en', 'nearest_landmark_ar', 'nearest_metro_en',\n",
      "       'nearest_metro_ar', 'nearest_mall_en', 'nearest_mall_ar',\n",
      "       'master_project_en', 'master_project_ar', 'req_from', 'req_to',\n",
      "       'entry_id', 'meta_ts'],\n",
      "      dtype='object')\n"
     ]
    }
   ],
   "source": [
    "print(transactions.columns)"
   ]
  },
  {
   "cell_type": "code",
   "execution_count": 11,
   "id": "cafbf3cc-8865-40c4-a4a5-016116fa761a",
   "metadata": {},
   "outputs": [
    {
     "name": "stdout",
     "output_type": "stream",
     "text": [
      "Index(['ejari_contract_number', 'registration_date', 'contract_start_date',\n",
      "       'contract_end_date', 'version_number', 'version_text',\n",
      "       'contract_amount', 'annual_amount', 'is_freehold', 'is_freehold_text',\n",
      "       'property_size_sqm', 'parcel_id', 'property_id', 'land_property_id',\n",
      "       'property_type_en', 'property_type_ar', 'property_subtype_en',\n",
      "       'property_subtype_ar', 'property_usage_en', 'property_usage_ar',\n",
      "       'property_usage_id', 'total_properties', 'rooms', 'parking',\n",
      "       'project_name_en', 'project_name_ar', 'area_en', 'area_ar', 'area_id',\n",
      "       'nearest_landmark_en', 'nearest_landmark_ar', 'nearest_metro_en',\n",
      "       'nearest_metro_ar', 'nearest_mall_en', 'nearest_mall_ar',\n",
      "       'master_project_en', 'master_project_ar', 'ejari_property_type_id',\n",
      "       'ejari_property_sub_type_id', 'req_from', 'req_to', 'entry_id',\n",
      "       'meta_ts', 'transaction_number'],\n",
      "      dtype='object')\n"
     ]
    }
   ],
   "source": [
    "print(rents.columns)"
   ]
  },
  {
   "cell_type": "code",
   "execution_count": 12,
   "id": "1cadf7e5-bac6-4530-85b1-1449602385cc",
   "metadata": {},
   "outputs": [
    {
     "name": "stdout",
     "output_type": "stream",
     "text": [
      "Index(['transaction_number', 'is_freehold_text', 'property_usage_en',\n",
      "       'property_usage_id', 'property_size_sqm', 'parcel_id', 'property_id',\n",
      "       'is_freehold', 'property_type_en', 'property_type_ar',\n",
      "       'property_subtype_en', 'property_subtype_ar', 'parking',\n",
      "       'project_name_en', 'project_name_ar', 'area_en', 'area_ar', 'area_id',\n",
      "       'nearest_landmark_en', 'nearest_landmark_ar', 'nearest_metro_en',\n",
      "       'nearest_metro_ar', 'nearest_mall_en', 'nearest_mall_ar',\n",
      "       'master_project_en', 'master_project_ar', 'req_from', 'req_to',\n",
      "       'entry_id', 'meta_ts'],\n",
      "      dtype='object')\n"
     ]
    }
   ],
   "source": [
    "import pandas as pd\n",
    "\n",
    "# Get the common columns\n",
    "common_columns = transactions.columns.intersection(rents.columns)\n",
    "\n",
    "print(common_columns)"
   ]
  },
  {
   "cell_type": "code",
   "execution_count": 16,
   "id": "3f445510-4120-427f-ab10-eef1ebe7d05f",
   "metadata": {},
   "outputs": [],
   "source": [
    "# Remove duplicats if needed\n",
    "transactions = transactions.drop_duplicates(subset='property_size_sqm')\n",
    "rents = rents.drop_duplicates(subset='property_size_sqm')"
   ]
  },
  {
   "cell_type": "code",
   "execution_count": 17,
   "id": "1ff38a79-2515-46ec-9fb5-82d4fe01b5da",
   "metadata": {
    "scrolled": true
   },
   "outputs": [],
   "source": [
    "import pandas as pd\n",
    "\n",
    "# Assuming 'property_id' is the common key\n",
    "merged_df = pd.merge(transactions, rents, on='property_size_sqm', how='inner')"
   ]
  },
  {
   "cell_type": "code",
   "execution_count": null,
   "id": "bef69da5-ab6f-4fe8-b8b6-51df9c37f2dd",
   "metadata": {},
   "outputs": [],
   "source": [
    "#Handle missing data and Feature Engineering"
   ]
  },
  {
   "cell_type": "code",
   "execution_count": 18,
   "id": "e8619943-e7b4-47e6-946a-ae0194fea76f",
   "metadata": {
    "scrolled": true
   },
   "outputs": [
    {
     "name": "stdout",
     "output_type": "stream",
     "text": [
      "transaction_number_x      17353\n",
      "transaction_datetime          0\n",
      "transaction_type_en           0\n",
      "transaction_type_id           0\n",
      "transaction_subtype_en        0\n",
      "                          ...  \n",
      "req_from_y                    0\n",
      "req_to_y                      0\n",
      "entry_id_y                    0\n",
      "meta_ts_y                     0\n",
      "transaction_number_y      17353\n",
      "Length: 89, dtype: int64\n"
     ]
    }
   ],
   "source": [
    "missing_values = merged_df.isnull().sum()\n",
    "print(missing_values)"
   ]
  },
  {
   "cell_type": "code",
   "execution_count": 20,
   "id": "252b4d85-2266-4f5a-a41e-ea8538f9777d",
   "metadata": {},
   "outputs": [],
   "source": [
    "merged_df['rooms'].fillna(merged_df['rooms'].median(), inplace=True)"
   ]
  },
  {
   "cell_type": "code",
   "execution_count": 21,
   "id": "a7079069-1eab-416b-802b-70811088dbb8",
   "metadata": {},
   "outputs": [],
   "source": [
    "merged_df['rooms'].fillna(merged_df['rooms'].mode()[0], inplace=True)"
   ]
  },
  {
   "cell_type": "code",
   "execution_count": null,
   "id": "e173092f-33e3-45e0-b489-e65085216d67",
   "metadata": {},
   "outputs": [],
   "source": [
    "#Encode categorical variables"
   ]
  },
  {
   "cell_type": "code",
   "execution_count": 23,
   "id": "82b495c8-a481-4169-89bf-fd34b4bfc787",
   "metadata": {},
   "outputs": [],
   "source": [
    "import pandas as pd\n",
    "\n",
    "# Function to clean column names\n",
    "def clean_column_names(df):\n",
    "    df.columns = df.columns.str.strip().str.lower().str.replace(' ', '_').str.replace('-', '_')\n",
    "    return df\n",
    "\n",
    "# Apply this function to both DataFrames\n",
    "transactions = clean_column_names(transactions)\n",
    "rents = clean_column_names(rents)"
   ]
  },
  {
   "cell_type": "code",
   "execution_count": 25,
   "id": "c822c7c0-5ac7-4a42-aba5-fbb0e76e7262",
   "metadata": {},
   "outputs": [],
   "source": [
    "from sklearn.preprocessing import LabelEncoder\n",
    "\n",
    "# Columns to encode with Label Encoding (ordinal)\n",
    "label_columns = ['is_freehold', 'property_usage_id', 'parking']\n",
    "\n",
    "label_encoder = LabelEncoder()\n",
    "\n",
    "# Concatenate the unique values from both DataFrames for each column\n",
    "for col in label_columns:\n",
    "    # Combine values from both DataFrames\n",
    "    combined_values = pd.concat([transactions[col], rents[col]], axis=0)\n",
    "    \n",
    "    # Fit and transform on the combined data\n",
    "    label_encoder.fit(combined_values.astype(str))  # fit on the combined values\n",
    "    \n",
    "    # Apply the transformation to both DataFrames\n",
    "    transactions[col] = label_encoder.transform(transactions[col].astype(str))\n",
    "    rents[col] = label_encoder.transform(rents[col].astype(str))"
   ]
  },
  {
   "cell_type": "code",
   "execution_count": 26,
   "id": "1a565334-a102-4b24-94e7-fd6709a0c4ce",
   "metadata": {},
   "outputs": [],
   "source": [
    "# Columns to encode with One-Hot Encoding (nominal)\n",
    "one_hot_columns = ['property_type_en', 'property_type_ar', 'project_name_en', \n",
    "                   'project_name_ar', 'area_en', 'area_ar', 'nearest_landmark_en', \n",
    "                   'nearest_landmark_ar', 'nearest_metro_en', 'nearest_metro_ar', \n",
    "                   'nearest_mall_en', 'nearest_mall_ar', 'master_project_en', \n",
    "                   'master_project_ar', 'req_from', 'req_to']\n",
    "\n",
    "# Apply One-Hot Encoding\n",
    "transactions = pd.get_dummies(transactions, columns=one_hot_columns, drop_first=True)\n",
    "rents = pd.get_dummies(rents, columns=one_hot_columns, drop_first=True)"
   ]
  },
  {
   "cell_type": "code",
   "execution_count": 27,
   "id": "3613f809-7542-4fde-bfde-6499363b94b7",
   "metadata": {},
   "outputs": [
    {
     "name": "stdout",
     "output_type": "stream",
     "text": [
      "Index(['transaction_number_x', 'transaction_datetime', 'transaction_type_en',\n",
      "       'transaction_type_id', 'transaction_subtype_en',\n",
      "       'transaction_subtype_id', 'registration_type_en', 'is_freehold_text_x',\n",
      "       'property_usage_en_x', 'property_usage_id_x', 'amount', 'total_buyer',\n",
      "       'total_seller', 'transaction_size_sqm', 'property_size_sqm',\n",
      "       'parcel_id_x', 'property_id_x', 'is_offplan', 'is_freehold_x',\n",
      "       'property_type_en_x', 'property_type_ar_x', 'property_type_id',\n",
      "       'property_subtype_en_x', 'property_subtype_ar_x', 'property_subtype_id',\n",
      "       'building_age', 'rooms_en', 'rooms_ar', 'parking_x',\n",
      "       'project_name_en_x', 'project_name_ar_x', 'area_en_x', 'area_ar_x',\n",
      "       'area_id_x', 'nearest_landmark_en_x', 'nearest_landmark_ar_x',\n",
      "       'nearest_metro_en_x', 'nearest_metro_ar_x', 'nearest_mall_en_x',\n",
      "       'nearest_mall_ar_x', 'master_project_en_x', 'master_project_ar_x',\n",
      "       'req_from_x', 'req_to_x', 'entry_id_x', 'meta_ts_x',\n",
      "       'ejari_contract_number', 'registration_date', 'contract_start_date',\n",
      "       'contract_end_date', 'version_number', 'version_text',\n",
      "       'contract_amount', 'annual_amount', 'is_freehold_y',\n",
      "       'is_freehold_text_y', 'parcel_id_y', 'property_id_y',\n",
      "       'land_property_id', 'property_type_en_y', 'property_type_ar_y',\n",
      "       'property_subtype_en_y', 'property_subtype_ar_y', 'property_usage_en_y',\n",
      "       'property_usage_ar', 'property_usage_id_y', 'total_properties', 'rooms',\n",
      "       'parking_y', 'project_name_en_y', 'project_name_ar_y', 'area_en_y',\n",
      "       'area_ar_y', 'area_id_y', 'nearest_landmark_en_y',\n",
      "       'nearest_landmark_ar_y', 'nearest_metro_en_y', 'nearest_metro_ar_y',\n",
      "       'nearest_mall_en_y', 'nearest_mall_ar_y', 'master_project_en_y',\n",
      "       'master_project_ar_y', 'ejari_property_type_id',\n",
      "       'ejari_property_sub_type_id', 'req_from_y', 'req_to_y', 'entry_id_y',\n",
      "       'meta_ts_y', 'transaction_number_y'],\n",
      "      dtype='object')\n"
     ]
    }
   ],
   "source": [
    "print(merged_df.columns)"
   ]
  },
  {
   "cell_type": "code",
   "execution_count": 28,
   "id": "c2f3738e-9181-4460-9a7e-de459fa1da12",
   "metadata": {},
   "outputs": [
    {
     "name": "stdout",
     "output_type": "stream",
     "text": [
      "object\n"
     ]
    }
   ],
   "source": [
    "print(merged_df['registration_date'].dtype)"
   ]
  },
  {
   "cell_type": "code",
   "execution_count": null,
   "id": "6c06945a-14c3-4dec-ac99-df0b15925c1a",
   "metadata": {},
   "outputs": [],
   "source": [
    "#Scale numerical features"
   ]
  },
  {
   "cell_type": "code",
   "execution_count": 34,
   "id": "f9be86ce-37e8-4f5b-8bb4-ee59bd767782",
   "metadata": {},
   "outputs": [
    {
     "name": "stdout",
     "output_type": "stream",
     "text": [
      "property_size_sqm    1.379918e-18\n",
      "dtype: float64\n",
      "property_size_sqm    1.000016\n",
      "dtype: float64\n"
     ]
    }
   ],
   "source": [
    "# Get columns that are present in both DataFrames\n",
    "common_columns = [col for col in numerical_columns if col in transactions.columns and col in rents.columns]\n",
    "\n",
    "# Initialize the StandardScaler\n",
    "scaler = StandardScaler()\n",
    "\n",
    "# Scale the common numerical features\n",
    "transactions[common_columns] = scaler.fit_transform(transactions[common_columns])\n",
    "rents[common_columns] = scaler.transform(rents[common_columns])\n",
    "\n",
    "# Verify scaling by checking the mean and standard deviation\n",
    "print(transactions[common_columns].mean())  # Should be close to 0\n",
    "print(transactions[common_columns].std())   # Should be close to 1\n"
   ]
  },
  {
   "cell_type": "code",
   "execution_count": 38,
   "id": "dc590210-8f23-44c6-9830-6bb0142d2ee6",
   "metadata": {},
   "outputs": [
    {
     "name": "stdout",
     "output_type": "stream",
     "text": [
      "   rooms\n",
      "0    1.0\n",
      "1    2.0\n",
      "2    3.0\n",
      "3    4.0\n"
     ]
    }
   ],
   "source": [
    "import pandas as pd\n",
    "import re\n",
    "\n",
    "# Sample DataFrame with the 'rooms' column containing values like '1 B/R', '2 B/R'\n",
    "data = {'rooms': ['1 B/R', '2 B/R', '3 B/R', '4 B/R']}\n",
    "df = pd.DataFrame(data)\n",
    "\n",
    "# Function to convert '1 B/R' to float (extracting numeric part)\n",
    "def convert_to_float(room_str):\n",
    "    # Use regex to extract the numeric part of the string\n",
    "    match = re.match(r'(\\d+)', room_str)  # Match digits at the start of the string\n",
    "    if match:\n",
    "        return float(match.group(1))  # Convert the matched number to float\n",
    "    else:\n",
    "        return None  # Return None if no match is found\n",
    "\n",
    "# Apply the function to the 'rooms' column\n",
    "df['rooms'] = df['rooms'].apply(convert_to_float)\n",
    "\n",
    "# Check the updated DataFrame\n",
    "print(df)"
   ]
  },
  {
   "cell_type": "code",
   "execution_count": 40,
   "id": "ba4e50dd-f580-4c3a-a1a0-744a74a55a08",
   "metadata": {},
   "outputs": [],
   "source": [
    "def convert_to_float(room_str):\n",
    "    # Regex to capture the numeric part before any spaces or non-numeric characters\n",
    "    match = re.match(r'(\\d+)', room_str.replace(\" \", \"\"))  # Remove spaces to handle formats like '1 BR'\n",
    "    if match:\n",
    "        return float(match.group(1))\n",
    "    else:\n",
    "        return None\n"
   ]
  },
  {
   "cell_type": "code",
   "execution_count": 45,
   "id": "25907903-9fe8-4b3a-b821-288e6115f8a4",
   "metadata": {},
   "outputs": [
    {
     "name": "stdout",
     "output_type": "stream",
     "text": [
      "Transactions columns: Index(['transaction_number', 'transaction_datetime', 'transaction_type_en',\n",
      "       'transaction_type_id', 'transaction_subtype_en',\n",
      "       'transaction_subtype_id', 'registration_type_en', 'is_freehold_text',\n",
      "       'property_usage_en', 'property_usage_id',\n",
      "       ...\n",
      "       'req_from_2024-08-01', 'req_from_2024-09-01', 'req_to_2024-02-29',\n",
      "       'req_to_2024-03-31', 'req_to_2024-04-30', 'req_to_2024-05-31',\n",
      "       'req_to_2024-06-30', 'req_to_2024-07-31', 'req_to_2024-08-31',\n",
      "       'req_to_2024-09-25'],\n",
      "      dtype='object', length=4649)\n",
      "Rents columns: Index(['ejari_contract_number', 'registration_date', 'contract_start_date',\n",
      "       'contract_end_date', 'version_number', 'version_text',\n",
      "       'contract_amount', 'annual_amount', 'is_freehold', 'is_freehold_text',\n",
      "       ...\n",
      "       'req_from_2024-08-01', 'req_from_2024-09-01', 'req_to_2024-02-29',\n",
      "       'req_to_2024-03-31', 'req_to_2024-04-30', 'req_to_2024-05-31',\n",
      "       'req_to_2024-06-30', 'req_to_2024-07-30', 'req_to_2024-08-31',\n",
      "       'req_to_2024-09-25'],\n",
      "      dtype='object', length=3087)\n",
      "Common numerical columns: ['property_size_sqm']\n",
      "Transactions StandardScaler - Mean: property_size_sqm    0.000077\n",
      "dtype: float64\n",
      "Transactions StandardScaler - Std: property_size_sqm    0.003436\n",
      "dtype: float64\n",
      "Transactions MinMaxScaler - Min: property_size_sqm    1.074957e-07\n",
      "dtype: float64\n",
      "Transactions MinMaxScaler - Max: property_size_sqm    0.371597\n",
      "dtype: float64\n"
     ]
    }
   ],
   "source": [
    "import pandas as pd\n",
    "from sklearn.preprocessing import StandardScaler, MinMaxScaler\n",
    "\n",
    "# Check column names in both DataFrames\n",
    "print(\"Transactions columns:\", transactions.columns)\n",
    "print(\"Rents columns:\", rents.columns)\n",
    "\n",
    "# List of numerical columns to scale (only include columns that exist in both DataFrames)\n",
    "numerical_columns = [\n",
    "    'amount', 'total_buyer', 'total_seller', 'transaction_size_sqm',\n",
    "    'property_size_sqm', 'building_age', 'rooms_en', 'rooms_ar'\n",
    "]\n",
    "\n",
    "# Ensure that these columns exist in both DataFrames\n",
    "common_columns = [col for col in numerical_columns if col in transactions.columns and col in rents.columns]\n",
    "print(\"Common numerical columns:\", common_columns)\n",
    "\n",
    "# Function to convert columns to float (to ensure all are numeric)\n",
    "def convert_to_float(df, columns):\n",
    "    for col in columns:\n",
    "        # Convert to float, invalid parsing will be coerced into NaN\n",
    "        df[col] = pd.to_numeric(df[col], errors='coerce').astype(float)\n",
    "    return df\n",
    "\n",
    "# Convert columns to float in both transactions and rents\n",
    "transactions = convert_to_float(transactions, common_columns)\n",
    "rents = convert_to_float(rents, common_columns)\n",
    "\n",
    "# Handle missing values: For simplicity, let's fill missing values with the median of each column\n",
    "transactions[common_columns] = transactions[common_columns].fillna(transactions[common_columns].median())\n",
    "rents[common_columns] = rents[common_columns].fillna(rents[common_columns].median())\n",
    "\n",
    "# Initialize the StandardScaler and MinMaxScaler\n",
    "standard_scaler = StandardScaler()\n",
    "min_max_scaler = MinMaxScaler()\n",
    "\n",
    "# Apply scaling to the numerical columns using StandardScaler\n",
    "transactions[common_columns] = standard_scaler.fit_transform(transactions[common_columns])\n",
    "rents[common_columns] = standard_scaler.transform(rents[common_columns])\n",
    "\n",
    "# Apply scaling to the numerical columns using MinMaxScaler\n",
    "transactions_minmax = min_max_scaler.fit_transform(transactions[common_columns])\n",
    "rents_minmax = min_max_scaler.transform(rents[common_columns])\n",
    "\n",
    "# Convert the scaled data back into DataFrames for readability\n",
    "transactions[common_columns] = pd.DataFrame(transactions_minmax, columns=common_columns)\n",
    "rents[common_columns] = pd.DataFrame(rents_minmax, columns=common_columns)\n",
    "\n",
    "# Check mean and standard deviation for transactions DataFrame after scaling with StandardScaler\n",
    "print(\"Transactions StandardScaler - Mean:\", transactions[common_columns].mean())  # Should be close to 0\n",
    "print(\"Transactions StandardScaler - Std:\", transactions[common_columns].std())    # Should be close to 1\n",
    "\n",
    "# For MinMaxScaler, the values should be between 0 and 1\n",
    "print(\"Transactions MinMaxScaler - Min:\", transactions[common_columns].min())  # Should be close to 0\n",
    "print(\"Transactions MinMaxScaler - Max:\", transactions[common_columns].max())  # Should be close to 1"
   ]
  },
  {
   "cell_type": "code",
   "execution_count": null,
   "id": "e89e7242-a2bf-4487-addb-f16fa1a8f6d5",
   "metadata": {},
   "outputs": [],
   "source": [
    "##  Correlation analysis"
   ]
  },
  {
   "cell_type": "code",
   "execution_count": 50,
   "id": "6ded4132-dcfe-4adb-a420-16d96e8b7fd8",
   "metadata": {},
   "outputs": [
    {
     "name": "stdout",
     "output_type": "stream",
     "text": [
      "Index(['transaction_number', 'transaction_datetime', 'transaction_type_en',\n",
      "       'transaction_type_id', 'transaction_subtype_en',\n",
      "       'transaction_subtype_id', 'registration_type_en', 'is_freehold_text',\n",
      "       'property_usage_en', 'property_usage_id',\n",
      "       ...\n",
      "       'req_from_2024-08-01', 'req_from_2024-09-01', 'req_to_2024-02-29',\n",
      "       'req_to_2024-03-31', 'req_to_2024-04-30', 'req_to_2024-05-31',\n",
      "       'req_to_2024-06-30', 'req_to_2024-07-31', 'req_to_2024-08-31',\n",
      "       'req_to_2024-09-25'],\n",
      "      dtype='object', length=4649)\n",
      "Index(['ejari_contract_number', 'registration_date', 'contract_start_date',\n",
      "       'contract_end_date', 'version_number', 'version_text',\n",
      "       'contract_amount', 'annual_amount', 'is_freehold', 'is_freehold_text',\n",
      "       ...\n",
      "       'req_from_2024-08-01', 'req_from_2024-09-01', 'req_to_2024-02-29',\n",
      "       'req_to_2024-03-31', 'req_to_2024-04-30', 'req_to_2024-05-31',\n",
      "       'req_to_2024-06-30', 'req_to_2024-07-30', 'req_to_2024-08-31',\n",
      "       'req_to_2024-09-25'],\n",
      "      dtype='object', length=3087)\n"
     ]
    }
   ],
   "source": [
    "# Check column names to identify the exact name of the datetime column\n",
    "print(transactions.columns)\n",
    "print(rents.columns)"
   ]
  },
  {
   "cell_type": "code",
   "execution_count": 51,
   "id": "c162e494-44cb-455f-911f-085851e1754a",
   "metadata": {},
   "outputs": [
    {
     "name": "stdout",
     "output_type": "stream",
     "text": [
      "Index(['transaction_number', 'transaction_datetime', 'transaction_type_en',\n",
      "       'transaction_type_id', 'transaction_subtype_en',\n",
      "       'transaction_subtype_id', 'registration_type_en', 'is_freehold_text',\n",
      "       'property_usage_en', 'property_usage_id',\n",
      "       ...\n",
      "       'req_from_2024-08-01', 'req_from_2024-09-01', 'req_to_2024-02-29',\n",
      "       'req_to_2024-03-31', 'req_to_2024-04-30', 'req_to_2024-05-31',\n",
      "       'req_to_2024-06-30', 'req_to_2024-07-31', 'req_to_2024-08-31',\n",
      "       'req_to_2024-09-25'],\n",
      "      dtype='object', length=4649)\n",
      "Index(['ejari_contract_number', 'registration_date', 'contract_start_date',\n",
      "       'contract_end_date', 'version_number', 'version_text',\n",
      "       'contract_amount', 'annual_amount', 'is_freehold', 'is_freehold_text',\n",
      "       ...\n",
      "       'req_from_2024-08-01', 'req_from_2024-09-01', 'req_to_2024-02-29',\n",
      "       'req_to_2024-03-31', 'req_to_2024-04-30', 'req_to_2024-05-31',\n",
      "       'req_to_2024-06-30', 'req_to_2024-07-30', 'req_to_2024-08-31',\n",
      "       'req_to_2024-09-25'],\n",
      "      dtype='object', length=3087)\n"
     ]
    }
   ],
   "source": [
    "# Remove leading/trailing spaces and standardize column names\n",
    "transactions.columns = transactions.columns.str.strip()\n",
    "rents.columns = rents.columns.str.strip()\n",
    "\n",
    "# Check the cleaned column names\n",
    "print(transactions.columns)\n",
    "print(rents.columns)"
   ]
  },
  {
   "cell_type": "code",
   "execution_count": 56,
   "id": "acf933aa-2921-4dab-94eb-35c8d78a95a4",
   "metadata": {},
   "outputs": [
    {
     "name": "stdout",
     "output_type": "stream",
     "text": [
      "  transaction_datetime  transaction_datetime_numeric\n",
      "0  2024-01-11 11:05:38                  1.704971e+09\n",
      "1  2024-01-08 18:00:51                  1.704737e+09\n",
      "2  2024-01-08 18:00:57                  1.704737e+09\n",
      "3  2024-01-08 18:01:03                  1.704737e+09\n",
      "4  2024-01-08 18:01:07                  1.704737e+09\n",
      "  transaction_datetime  transaction_datetime_numeric\n",
      "0  2024-01-24 11:14:33                  1.706095e+09\n",
      "1  2024-01-09 16:48:47                  1.704819e+09\n",
      "2  2024-01-16 11:39:26                  1.705405e+09\n",
      "3  2024-01-15 18:28:05                  1.705343e+09\n",
      "4  2024-01-22 13:34:29                  1.705930e+09\n"
     ]
    }
   ],
   "source": [
    "# Ensure that 'transaction_datetime' column exists before processing\n",
    "if 'transaction_datetime' in transactions.columns:\n",
    "    transactions['transaction_datetime'] = pd.to_datetime(transactions['transaction_datetime'])\n",
    "else:\n",
    "    print(\"Column 'transaction_datetime' is missing in transactions DataFrame\")\n",
    "\n",
    "if 'transaction_datetime' in rents.columns:\n",
    "    rents['transaction_datetime'] = pd.to_datetime(rents['transaction_datetime'])\n",
    "else:\n",
    "    print(\"Column 'transaction_datetime' is missing in rents DataFrame\")\n",
    "\n",
    "# Convert datetime to Unix timestamp in int64 (seconds since epoch)\n",
    "transactions['transaction_datetime_numeric'] = transactions['transaction_datetime'].astype('int64') / 10**9  # in seconds\n",
    "rents['transaction_datetime_numeric'] = rents['transaction_datetime'].astype('int64') / 10**9  # in seconds\n",
    "\n",
    "# Check the new columns to verify conversion\n",
    "print(transactions[['transaction_datetime', 'transaction_datetime_numeric']].head())\n",
    "print(rents[['transaction_datetime', 'transaction_datetime_numeric']].head())"
   ]
  },
  {
   "cell_type": "code",
   "execution_count": 63,
   "id": "ed16cee2-4374-41bf-ad28-eb4d0bec7174",
   "metadata": {},
   "outputs": [
    {
     "name": "stdout",
     "output_type": "stream",
     "text": [
      "Transactions Columns: Index(['transaction_number', 'transaction_datetime', 'transaction_type_en',\n",
      "       'transaction_type_id', 'transaction_subtype_en',\n",
      "       'transaction_subtype_id', 'registration_type_en', 'is_freehold_text',\n",
      "       'property_usage_en', 'property_usage_id',\n",
      "       ...\n",
      "       'req_to_2024-02-29', 'req_to_2024-03-31', 'req_to_2024-04-30',\n",
      "       'req_to_2024-05-31', 'req_to_2024-06-30', 'req_to_2024-07-31',\n",
      "       'req_to_2024-08-31', 'req_to_2024-09-25',\n",
      "       'transaction_datetime_numeric', 'transaction_type_en_encoded'],\n",
      "      dtype='object', length=4651)\n",
      "Rents Columns: Index(['ejari_contract_number', 'registration_date', 'contract_start_date',\n",
      "       'contract_end_date', 'version_number', 'version_text',\n",
      "       'contract_amount', 'annual_amount', 'is_freehold', 'is_freehold_text',\n",
      "       ...\n",
      "       'req_to_2024-02-29', 'req_to_2024-03-31', 'req_to_2024-04-30',\n",
      "       'req_to_2024-05-31', 'req_to_2024-06-30', 'req_to_2024-07-30',\n",
      "       'req_to_2024-08-31', 'req_to_2024-09-25', 'transaction_datetime',\n",
      "       'transaction_datetime_numeric'],\n",
      "      dtype='object', length=3089)\n",
      "Cleaned Transactions Columns: Index(['transaction_number', 'transaction_datetime', 'transaction_type_en',\n",
      "       'transaction_type_id', 'transaction_subtype_en',\n",
      "       'transaction_subtype_id', 'registration_type_en', 'is_freehold_text',\n",
      "       'property_usage_en', 'property_usage_id',\n",
      "       ...\n",
      "       'req_to_2024-02-29', 'req_to_2024-03-31', 'req_to_2024-04-30',\n",
      "       'req_to_2024-05-31', 'req_to_2024-06-30', 'req_to_2024-07-31',\n",
      "       'req_to_2024-08-31', 'req_to_2024-09-25',\n",
      "       'transaction_datetime_numeric', 'transaction_type_en_encoded'],\n",
      "      dtype='object', length=4651)\n",
      "Cleaned Rents Columns: Index(['ejari_contract_number', 'registration_date', 'contract_start_date',\n",
      "       'contract_end_date', 'version_number', 'version_text',\n",
      "       'contract_amount', 'annual_amount', 'is_freehold', 'is_freehold_text',\n",
      "       ...\n",
      "       'req_to_2024-02-29', 'req_to_2024-03-31', 'req_to_2024-04-30',\n",
      "       'req_to_2024-05-31', 'req_to_2024-06-30', 'req_to_2024-07-30',\n",
      "       'req_to_2024-08-31', 'req_to_2024-09-25', 'transaction_datetime',\n",
      "       'transaction_datetime_numeric'],\n",
      "      dtype='object', length=3089)\n"
     ]
    }
   ],
   "source": [
    "# Check if there are any extra spaces or unusual characters in the column names\n",
    "print(\"Transactions Columns:\", transactions.columns)\n",
    "print(\"Rents Columns:\", rents.columns)\n",
    "\n",
    "# Clean column names by stripping leading/trailing spaces\n",
    "transactions.columns = transactions.columns.str.strip()\n",
    "rents.columns = rents.columns.str.strip()\n",
    "\n",
    "# Recheck the columns after cleaning\n",
    "print(\"Cleaned Transactions Columns:\", transactions.columns)\n",
    "print(\"Cleaned Rents Columns:\", rents.columns)"
   ]
  },
  {
   "cell_type": "code",
   "execution_count": 64,
   "id": "00b412b0-7dc6-4267-b34e-a7c0b619106b",
   "metadata": {},
   "outputs": [
    {
     "name": "stdout",
     "output_type": "stream",
     "text": [
      "Columns in Transactions: Index(['transaction_number', 'transaction_datetime', 'transaction_type_en',\n",
      "       'transaction_type_id', 'transaction_subtype_en',\n",
      "       'transaction_subtype_id', 'registration_type_en', 'is_freehold_text',\n",
      "       'property_usage_en', 'property_usage_id',\n",
      "       ...\n",
      "       'req_to_2024-02-29', 'req_to_2024-03-31', 'req_to_2024-04-30',\n",
      "       'req_to_2024-05-31', 'req_to_2024-06-30', 'req_to_2024-07-31',\n",
      "       'req_to_2024-08-31', 'req_to_2024-09-25',\n",
      "       'transaction_datetime_numeric', 'transaction_type_en_encoded'],\n",
      "      dtype='object', length=4651)\n",
      "Columns in Rents: Index(['ejari_contract_number', 'registration_date', 'contract_start_date',\n",
      "       'contract_end_date', 'version_number', 'version_text',\n",
      "       'contract_amount', 'annual_amount', 'is_freehold', 'is_freehold_text',\n",
      "       ...\n",
      "       'req_to_2024-02-29', 'req_to_2024-03-31', 'req_to_2024-04-30',\n",
      "       'req_to_2024-05-31', 'req_to_2024-06-30', 'req_to_2024-07-30',\n",
      "       'req_to_2024-08-31', 'req_to_2024-09-25', 'transaction_datetime',\n",
      "       'transaction_datetime_numeric'],\n",
      "      dtype='object', length=3089)\n",
      "transaction_size_sqm in Transactions? True\n",
      "building_age in Transactions? True\n",
      "rooms_en in Transactions? True\n",
      "rooms_ar in Transactions? True\n"
     ]
    }
   ],
   "source": [
    "# Check if the columns exist in both DataFrames\n",
    "print(\"Columns in Transactions:\", transactions.columns)\n",
    "print(\"Columns in Rents:\", rents.columns)\n",
    "\n",
    "# Verify specific columns\n",
    "print(\"transaction_size_sqm in Transactions?\", 'transaction_size_sqm' in transactions.columns)\n",
    "print(\"building_age in Transactions?\", 'building_age' in transactions.columns)\n",
    "print(\"rooms_en in Transactions?\", 'rooms_en' in transactions.columns)\n",
    "print(\"rooms_ar in Transactions?\", 'rooms_ar' in transactions.columns)"
   ]
  },
  {
   "cell_type": "code",
   "execution_count": 69,
   "id": "e5225b91-3a4e-474b-b4b1-d96ac86543ae",
   "metadata": {},
   "outputs": [],
   "source": [
    "def convert_to_float(room_str):\n",
    "    # Regex to capture the numeric part before any spaces or non-numeric characters\n",
    "    match = re.match(r'(\\d+)', room_str.replace(\" \", \"\"))  # Remove spaces to handle formats like '1 BR'\n",
    "    if match:\n",
    "        return float(match.group(1))\n",
    "    else:\n",
    "        return None"
   ]
  },
  {
   "cell_type": "code",
   "execution_count": 71,
   "id": "c396d3e3-5af2-493f-a428-188e0d290206",
   "metadata": {},
   "outputs": [],
   "source": [
    "import re\n",
    "\n",
    "# Function to convert room size strings to float (removes non-numeric characters)\n",
    "def convert_to_float(room_str):\n",
    "    # Remove any non-numeric characters except for digits and decimals\n",
    "    match = re.match(r'(\\d+)', room_str.replace(\" \", \"\").replace(\"B/R\", \"\"))\n",
    "    if match:\n",
    "        return float(match.group(1))\n",
    "    else:\n",
    "        return None  # In case there's no valid number"
   ]
  },
  {
   "cell_type": "code",
   "execution_count": 92,
   "id": "c32d5127-9436-4b64-8770-a8c829083d10",
   "metadata": {},
   "outputs": [],
   "source": [
    "# Apply the conversion function to the relevant columns in both DataFrames\n",
    "transactions['rooms_en'] = transactions['rooms_en'].apply(lambda x: convert_to_float(str(x)))\n",
    "transactions['rooms_ar'] = transactions['rooms_ar'].apply(lambda x: convert_to_float(str(x)))"
   ]
  },
  {
   "cell_type": "code",
   "execution_count": 77,
   "id": "dff52a6a-27a8-442d-b60f-4be33b2cbf9a",
   "metadata": {},
   "outputs": [
    {
     "name": "stdout",
     "output_type": "stream",
     "text": [
      "Index(['ejari_contract_number', 'registration_date', 'contract_start_date',\n",
      "       'contract_end_date', 'version_number', 'version_text',\n",
      "       'contract_amount', 'annual_amount', 'is_freehold', 'is_freehold_text',\n",
      "       ...\n",
      "       'req_to_2024-02-29', 'req_to_2024-03-31', 'req_to_2024-04-30',\n",
      "       'req_to_2024-05-31', 'req_to_2024-06-30', 'req_to_2024-07-30',\n",
      "       'req_to_2024-08-31', 'req_to_2024-09-25', 'transaction_datetime',\n",
      "       'transaction_datetime_numeric'],\n",
      "      dtype='object', length=3089)\n"
     ]
    }
   ],
   "source": [
    "# Check column names in the rents DataFrame\n",
    "print(rents.columns)"
   ]
  },
  {
   "cell_type": "code",
   "execution_count": 82,
   "id": "dc6e4636-4eaa-4768-8092-bc6f3e3de2c9",
   "metadata": {},
   "outputs": [
    {
     "name": "stdout",
     "output_type": "stream",
     "text": [
      "Index(['ejari_contract_number', 'registration_date', 'contract_start_date',\n",
      "       'contract_end_date', 'version_number', 'version_text',\n",
      "       'contract_amount', 'annual_amount', 'is_freehold', 'is_freehold_text',\n",
      "       ...\n",
      "       'req_to_2024-02-29', 'req_to_2024-03-31', 'req_to_2024-04-30',\n",
      "       'req_to_2024-05-31', 'req_to_2024-06-30', 'req_to_2024-07-30',\n",
      "       'req_to_2024-08-31', 'req_to_2024-09-25', 'transaction_datetime',\n",
      "       'transaction_datetime_numeric'],\n",
      "      dtype='object', length=3089)\n"
     ]
    }
   ],
   "source": [
    "# Strip leading and trailing spaces from all column names in both DataFrames\n",
    "rents.columns = rents.columns.str.strip()\n",
    "transactions.columns = transactions.columns.str.strip()\n",
    "\n",
    "# Confirm columns again\n",
    "print(rents.columns)"
   ]
  },
  {
   "cell_type": "code",
   "execution_count": 81,
   "id": "fb15d6b9-2536-4d70-88e7-f62d0bedf171",
   "metadata": {},
   "outputs": [
    {
     "name": "stdout",
     "output_type": "stream",
     "text": [
      "Index(['transaction_number', 'transaction_datetime', 'transaction_type_en',\n",
      "       'transaction_type_id', 'transaction_subtype_en',\n",
      "       'transaction_subtype_id', 'registration_type_en', 'is_freehold_text',\n",
      "       'property_usage_en', 'property_usage_id',\n",
      "       ...\n",
      "       'req_to_2024-02-29', 'req_to_2024-03-31', 'req_to_2024-04-30',\n",
      "       'req_to_2024-05-31', 'req_to_2024-06-30', 'req_to_2024-07-31',\n",
      "       'req_to_2024-08-31', 'req_to_2024-09-25',\n",
      "       'transaction_datetime_numeric', 'transaction_type_en_encoded'],\n",
      "      dtype='object', length=4651)\n"
     ]
    }
   ],
   "source": [
    "# Strip leading and trailing spaces from all column names in both DataFrames\n",
    "rents.columns = rents.columns.str.strip()\n",
    "transactions.columns = transactions.columns.str.strip()\n",
    "\n",
    "# Confirm columns again\n",
    "print(transactions.columns)"
   ]
  },
  {
   "cell_type": "code",
   "execution_count": 79,
   "id": "bceb878d-ba94-43ba-82b1-d725cba38426",
   "metadata": {},
   "outputs": [
    {
     "name": "stdout",
     "output_type": "stream",
     "text": [
      "True\n",
      "True\n"
     ]
    }
   ],
   "source": [
    "# Check if the columns exist after stripping spaces\n",
    "print('contract_amount' in rents.columns)\n",
    "print('annual_amount' in rents.columns)"
   ]
  },
  {
   "cell_type": "code",
   "execution_count": 83,
   "id": "ffe0fc2f-234e-406e-88e9-6fe45caf0ba4",
   "metadata": {},
   "outputs": [
    {
     "name": "stdout",
     "output_type": "stream",
     "text": [
      "True\n",
      "True\n",
      "True\n",
      "True\n"
     ]
    }
   ],
   "source": [
    "# Check if the columns exist after stripping spaces\n",
    "print('transaction_size_sqm' in transactions.columns)\n",
    "print('building_age' in transactions.columns)\n",
    "print('rooms_en' in transactions.columns)\n",
    "print('rooms_ar' in transactions.columns)"
   ]
  },
  {
   "cell_type": "code",
   "execution_count": 85,
   "id": "ffdb7b0c-e463-42f6-b959-5f0b5ddbc2cf",
   "metadata": {},
   "outputs": [],
   "source": [
    "# Convert contract_amount and annual_amount to numeric values\n",
    "transactions['transaction_size_sqm'] = pd.to_numeric(transactions['transaction_size_sqm'], errors='coerce')\n",
    "transactions['building_age'] = pd.to_numeric(transactions['building_age'], errors='coerce')\n",
    "transactions['rooms_en'] = pd.to_numeric(transactions['rooms_en'], errors='coerce')\n",
    "transactions['rooms_ar'] = pd.to_numeric(transactions['rooms_ar'], errors='coerce')\n",
    "\n",
    "# After conversion, ensure that NaNs are handled if needed\n",
    "transactions['transaction_size_sqm'].fillna(0, inplace=True)\n",
    "transactions['building_age'].fillna(0, inplace=True)\n",
    "transactions['rooms_en'].fillna(0, inplace=True)\n",
    "transactions['rooms_ar'].fillna(0, inplace=True)"
   ]
  },
  {
   "cell_type": "code",
   "execution_count": 95,
   "id": "0b9cc64e-fd91-430b-88e8-be23775923a4",
   "metadata": {},
   "outputs": [
    {
     "name": "stdout",
     "output_type": "stream",
     "text": [
      "Transactions Columns: Index(['transaction_number', 'transaction_datetime', 'transaction_type_en',\n",
      "       'transaction_type_id', 'transaction_subtype_en',\n",
      "       'transaction_subtype_id', 'registration_type_en', 'is_freehold_text',\n",
      "       'property_usage_en', 'property_usage_id',\n",
      "       ...\n",
      "       'req_to_2024-02-29', 'req_to_2024-03-31', 'req_to_2024-04-30',\n",
      "       'req_to_2024-05-31', 'req_to_2024-06-30', 'req_to_2024-07-31',\n",
      "       'req_to_2024-08-31', 'req_to_2024-09-25',\n",
      "       'transaction_datetime_numeric', 'transaction_type_en_encoded'],\n",
      "      dtype='object', length=4651)\n",
      "Rents Columns: Index(['ejari_contract_number', 'registration_date', 'contract_start_date',\n",
      "       'contract_end_date', 'version_number', 'version_text',\n",
      "       'contract_amount', 'annual_amount', 'is_freehold', 'is_freehold_text',\n",
      "       ...\n",
      "       'req_to_2024-02-29', 'req_to_2024-03-31', 'req_to_2024-04-30',\n",
      "       'req_to_2024-05-31', 'req_to_2024-06-30', 'req_to_2024-07-30',\n",
      "       'req_to_2024-08-31', 'req_to_2024-09-25', 'transaction_datetime',\n",
      "       'transaction_datetime_numeric'],\n",
      "      dtype='object', length=3089)\n",
      "Transactions Columns (after stripping): Index(['transaction_number', 'transaction_datetime', 'transaction_type_en',\n",
      "       'transaction_type_id', 'transaction_subtype_en',\n",
      "       'transaction_subtype_id', 'registration_type_en', 'is_freehold_text',\n",
      "       'property_usage_en', 'property_usage_id',\n",
      "       ...\n",
      "       'req_to_2024-02-29', 'req_to_2024-03-31', 'req_to_2024-04-30',\n",
      "       'req_to_2024-05-31', 'req_to_2024-06-30', 'req_to_2024-07-31',\n",
      "       'req_to_2024-08-31', 'req_to_2024-09-25',\n",
      "       'transaction_datetime_numeric', 'transaction_type_en_encoded'],\n",
      "      dtype='object', length=4651)\n",
      "Rents Columns (after stripping): Index(['ejari_contract_number', 'registration_date', 'contract_start_date',\n",
      "       'contract_end_date', 'version_number', 'version_text',\n",
      "       'contract_amount', 'annual_amount', 'is_freehold', 'is_freehold_text',\n",
      "       ...\n",
      "       'req_to_2024-02-29', 'req_to_2024-03-31', 'req_to_2024-04-30',\n",
      "       'req_to_2024-05-31', 'req_to_2024-06-30', 'req_to_2024-07-30',\n",
      "       'req_to_2024-08-31', 'req_to_2024-09-25', 'transaction_datetime',\n",
      "       'transaction_datetime_numeric'],\n",
      "      dtype='object', length=3089)\n"
     ]
    }
   ],
   "source": [
    "# Print column names of both transactions and rents DataFrames\n",
    "print(\"Transactions Columns:\", transactions.columns)\n",
    "print(\"Rents Columns:\", rents.columns)\n",
    "\n",
    "# Strip spaces (if any)\n",
    "transactions.columns = transactions.columns.str.strip()\n",
    "rents.columns = rents.columns.str.strip()\n",
    "\n",
    "# Print again after stripping spaces\n",
    "print(\"Transactions Columns (after stripping):\", transactions.columns)\n",
    "print(\"Rents Columns (after stripping):\", rents.columns)"
   ]
  },
  {
   "cell_type": "code",
   "execution_count": 107,
   "id": "72fd3430-e3ba-458d-83d2-afeedfc29289",
   "metadata": {},
   "outputs": [
    {
     "name": "stdout",
     "output_type": "stream",
     "text": [
      "Common Numerical Columns: ['property_size_sqm']\n"
     ]
    }
   ],
   "source": [
    "# Check which columns are available in both DataFrames\n",
    "common_columns = [col for col in numerical_columns if col in transactions.columns and col in rents.columns]\n",
    "\n",
    "print(\"Common Numerical Columns:\", common_columns)"
   ]
  },
  {
   "cell_type": "code",
   "execution_count": 108,
   "id": "7be0ea00-2f6b-43d0-8adb-0690cec6acab",
   "metadata": {},
   "outputs": [
    {
     "name": "stdout",
     "output_type": "stream",
     "text": [
      "Combined DataFrame Shape: (57471, 2)\n",
      "   property_size_sqm  property_size_sqm\n",
      "0           0.000003           0.000006\n",
      "1           0.000003           0.000008\n",
      "2           0.000006           0.000003\n",
      "3           0.000005           0.000005\n",
      "4           0.000003           0.000003\n"
     ]
    }
   ],
   "source": [
    "# Ensure both DataFrames contain only the common numerical columns\n",
    "transactions_common = transactions[common_columns]\n",
    "rents_common = rents[common_columns]\n",
    "\n",
    "# Combine both DataFrames for correlation analysis\n",
    "combined_df = pd.concat([transactions_common, rents_common], axis=1)\n",
    "\n",
    "# Check the shape and preview of the combined DataFrame\n",
    "print(\"Combined DataFrame Shape:\", combined_df.shape)\n",
    "print(combined_df.head())"
   ]
  },
  {
   "cell_type": "code",
   "execution_count": 109,
   "id": "9e79cfb6-6807-4ce9-9ff8-ae7a77f94427",
   "metadata": {},
   "outputs": [
    {
     "data": {
      "image/png": "[encoded data removed]",
      "text/plain": [
       "<Figure size 1200x1000 with 2 Axes>"
      ]
     },
     "metadata": {},
     "output_type": "display_data"
    }
   ],
   "source": [
    "# Calculate the correlation matrix\n",
    "correlation_matrix = combined_df.corr()\n",
    "\n",
    "# Visualize the correlation matrix using a heatmap\n",
    "plt.figure(figsize=(12, 10))\n",
    "sns.heatmap(correlation_matrix, annot=True, cmap='coolwarm', fmt='.2f', linewidths=0.5)\n",
    "plt.title('Correlation Heatmap')\n",
    "plt.show()"
   ]
  },
  {
   "cell_type": "code",
   "execution_count": 110,
   "id": "a5313804-fe97-496d-a671-c7029537f5d1",
   "metadata": {},
   "outputs": [
    {
     "name": "stdout",
     "output_type": "stream",
     "text": [
      "property_size_sqm    45331\n",
      "property_size_sqm    48563\n",
      "dtype: int64\n"
     ]
    }
   ],
   "source": [
    "# Check for missing values\n",
    "print(combined_df.isnull().sum())\n",
    "\n",
    "# Optionally, fill missing values (e.g., with the mean or median) or drop rows with missing data\n",
    "combined_df = combined_df.fillna(combined_df.mean())  # Filling NaN with the mean\n"
   ]
  },
  {
   "cell_type": "code",
   "execution_count": 111,
   "id": "6728bf11-a267-489d-bbe6-f9555574ddbb",
   "metadata": {},
   "outputs": [
    {
     "name": "stdout",
     "output_type": "stream",
     "text": [
      "Reduced DataFrame Shape: (57471, 2)\n"
     ]
    }
   ],
   "source": [
    "# Set a correlation threshold\n",
    "threshold = 0.9\n",
    "\n",
    "# Identify highly correlated pairs of features\n",
    "highly_correlated_pairs = set()\n",
    "for i in range(len(correlation_matrix.columns)):\n",
    "    for j in range(i):\n",
    "        if abs(correlation_matrix.iloc[i, j]) > threshold:\n",
    "            colname = correlation_matrix.columns[i]\n",
    "            highly_correlated_pairs.add(colname)\n",
    "\n",
    "# Drop highly correlated features\n",
    "combined_df_reduced = combined_df.drop(columns=highly_correlated_pairs)\n",
    "\n",
    "print(\"Reduced DataFrame Shape:\", combined_df_reduced.shape)"
   ]
  },
  {
   "cell_type": "code",
   "execution_count": 118,
   "id": "4988a25a-bfb6-4442-b909-f43fefbe732b",
   "metadata": {},
   "outputs": [
    {
     "data": {
      "image/png": "[encoded data removed]",
      "text/plain": [
       "<Figure size 1000x600 with 1 Axes>"
      ]
     },
     "metadata": {},
     "output_type": "display_data"
    }
   ],
   "source": [
    "from sklearn.decomposition import PCA\n",
    "\n",
    "# Apply PCA to reduce dimensions\n",
    "pca = PCA(n_components=2)  # Reduce to 2 components for visualization\n",
    "pca_components = pca.fit_transform(combined_df)\n",
    "\n",
    "# Plot the PCA components\n",
    "plt.figure(figsize=(10, 6))\n",
    "plt.scatter(pca_components[:, 0], pca_components[:, 1], alpha=0.5)\n",
    "plt.title('PCA: 2D Visualization of Data')\n",
    "plt.xlabel('PCA Component 1')\n",
    "plt.ylabel('PCA Component 2')\n",
    "plt.show()"
   ]
  },
  {
   "cell_type": "code",
   "execution_count": 124,
   "id": "ec0b40ab-9292-4fb2-afde-57dacaefa102",
   "metadata": {},
   "outputs": [
    {
     "name": "stdout",
     "output_type": "stream",
     "text": [
      "(57471, 0)\n",
      "(57471, 2)\n",
      "Series([], dtype: object)\n",
      "property_size_sqm    float64\n",
      "property_size_sqm    float64\n",
      "dtype: object\n"
     ]
    }
   ],
   "source": [
    "# Make sure 'property_size_sqm' is the target\n",
    "X = combined_df.drop(columns=['property_size_sqm'])  # Features (drop the target column from the feature set)\n",
    "y = combined_df['property_size_sqm']  # Target variable\n",
    "\n",
    "# Check if X and y are correctly assigned and not empty\n",
    "print(X.shape)  # Should show a non-zero shape\n",
    "print(y.shape)  # Should show a non-zero shape\n",
    "\n",
    "# Check the data types\n",
    "print(X.dtypes)\n",
    "print(y.dtypes)"
   ]
  },
  {
   "cell_type": "code",
   "execution_count": 125,
   "id": "3a2cac1a-0a63-49a6-8f99-4137ac340a75",
   "metadata": {},
   "outputs": [],
   "source": [
    "# Drop rows with missing target or features\n",
    "combined_df = combined_df.dropna(subset=['property_size_sqm'])  # Drop rows where target is missing\n",
    "X = combined_df.drop(columns=['property_size_sqm'])  # Features\n",
    "y = combined_df['property_size_sqm']  # Target"
   ]
  },
  {
   "cell_type": "code",
   "execution_count": 127,
   "id": "d1e84ef6-a57d-4239-8e71-13dc9e346006",
   "metadata": {},
   "outputs": [
    {
     "name": "stdout",
     "output_type": "stream",
     "text": [
      "Series([], dtype: object)\n",
      "property_size_sqm    float64\n",
      "property_size_sqm    float64\n",
      "dtype: object\n"
     ]
    }
   ],
   "source": [
    "# Check the data types of features and target\n",
    "print(X.dtypes)  # Should show numerical types like int64, float64\n",
    "print(y.dtypes)  # Should show a numerical type like float64"
   ]
  },
  {
   "cell_type": "code",
   "execution_count": 128,
   "id": "a1fe2381-9001-4ac5-889e-a4baf11aeee6",
   "metadata": {},
   "outputs": [
    {
     "name": "stdout",
     "output_type": "stream",
     "text": [
      "Missing values in target column ('property_size_sqm'): property_size_sqm    0\n",
      "property_size_sqm    0\n",
      "dtype: int64\n",
      "Missing values in feature columns ('X'): Series([], dtype: float64)\n"
     ]
    }
   ],
   "source": [
    "# Check for missing values in the target and features\n",
    "print(\"Missing values in target column ('property_size_sqm'):\", y.isnull().sum())\n",
    "print(\"Missing values in feature columns ('X'):\", X.isnull().sum())"
   ]
  },
  {
   "cell_type": "code",
   "execution_count": 129,
   "id": "758d2bbf-3122-4e66-8cca-a024e068793b",
   "metadata": {},
   "outputs": [
    {
     "name": "stdout",
     "output_type": "stream",
     "text": [
      "Shape of X after dropping missing values: (57471, 0)\n",
      "Shape of y after dropping missing values: (57471, 2)\n"
     ]
    }
   ],
   "source": [
    "# Drop rows with missing target variable or features\n",
    "combined_df = combined_df.dropna(subset=['property_size_sqm'])  # Drop rows where target is missing\n",
    "X = combined_df.drop(columns=['property_size_sqm'])  # Features (drop the target column from the feature set)\n",
    "y = combined_df['property_size_sqm']  # Target\n",
    "\n",
    "# Double check if data is still empty\n",
    "print(f\"Shape of X after dropping missing values: {X.shape}\")\n",
    "print(f\"Shape of y after dropping missing values: {y.shape}\")"
   ]
  },
  {
   "cell_type": "code",
   "execution_count": 130,
   "id": "e6f44560-f42f-41f4-b014-6fefdceb2a26",
   "metadata": {},
   "outputs": [
    {
     "name": "stdout",
     "output_type": "stream",
     "text": [
      "Columns in combined DataFrame: Index(['property_size_sqm', 'property_size_sqm'], dtype='object')\n",
      "Column 'property_size_sqm' exists.\n"
     ]
    }
   ],
   "source": [
    "# Check if the column names are correct\n",
    "print(\"Columns in combined DataFrame:\", combined_df.columns)\n",
    "\n",
    "# Ensure the column 'property_size_sqm' exists in combined DataFrame\n",
    "if 'property_size_sqm' not in combined_df.columns:\n",
    "    print(\"Error: 'property_size_sqm' column not found.\")\n",
    "else:\n",
    "    print(\"Column 'property_size_sqm' exists.\")"
   ]
  },
  {
   "cell_type": "code",
   "execution_count": 131,
   "id": "472c648d-b552-4a1b-8a60-7085f227f4c6",
   "metadata": {},
   "outputs": [
    {
     "name": "stdout",
     "output_type": "stream",
     "text": [
      "Series([], dtype: object)\n",
      "property_size_sqm    float64\n",
      "property_size_sqm    float64\n",
      "dtype: object\n"
     ]
    }
   ],
   "source": [
    "# Check data types of features and target\n",
    "print(X.dtypes)\n",
    "print(y.dtypes)"
   ]
  },
  {
   "cell_type": "code",
   "execution_count": 133,
   "id": "a3e0c4b3-2fc4-4a63-ad0b-ab2eb8c859bb",
   "metadata": {},
   "outputs": [
    {
     "name": "stdout",
     "output_type": "stream",
     "text": [
      "Transactions shape: (30895, 4651)\n",
      "Transactions index: Index([     0,      1,      2,      3,      4,      5,      6,      7,      8,\n",
      "            9,\n",
      "       ...\n",
      "       162739, 162742, 162745, 162746, 162762, 162765, 162769, 162777, 162787,\n",
      "       162793],\n",
      "      dtype='int64', length=30895)\n",
      "Rents shape: (31850, 3089)\n",
      "Rents index: Index([     0,      1,      2,      3,      4,      5,      6,      7,      8,\n",
      "            9,\n",
      "       ...\n",
      "       747031, 747060, 747138, 747271, 747284, 747285, 747306, 747310, 747337,\n",
      "       747405],\n",
      "      dtype='int64', length=31850)\n"
     ]
    }
   ],
   "source": [
    "# Check the shape and index of both DataFrames\n",
    "print(f\"Transactions shape: {transactions.shape}\")\n",
    "print(f\"Transactions index: {transactions.index}\")\n",
    "print(f\"Rents shape: {rents.shape}\")\n",
    "print(f\"Rents index: {rents.index}\")"
   ]
  },
  {
   "cell_type": "code",
   "execution_count": 134,
   "id": "932896b5-f103-43a1-8017-d779bdf4b85c",
   "metadata": {},
   "outputs": [],
   "source": [
    "# Reset the index of both DataFrames to avoid misalignment\n",
    "transactions.reset_index(drop=True, inplace=True)\n",
    "rents.reset_index(drop=True, inplace=True)"
   ]
  },
  {
   "cell_type": "code",
   "execution_count": 135,
   "id": "592b879a-a265-4906-8887-2be25ca49a7b",
   "metadata": {},
   "outputs": [
    {
     "name": "stdout",
     "output_type": "stream",
     "text": [
      "Transactions Columns: Index(['transaction_number', 'transaction_datetime', 'transaction_type_en',\n",
      "       'transaction_type_id', 'transaction_subtype_en',\n",
      "       'transaction_subtype_id', 'registration_type_en', 'is_freehold_text',\n",
      "       'property_usage_en', 'property_usage_id',\n",
      "       ...\n",
      "       'req_to_2024-02-29', 'req_to_2024-03-31', 'req_to_2024-04-30',\n",
      "       'req_to_2024-05-31', 'req_to_2024-06-30', 'req_to_2024-07-31',\n",
      "       'req_to_2024-08-31', 'req_to_2024-09-25',\n",
      "       'transaction_datetime_numeric', 'transaction_type_en_encoded'],\n",
      "      dtype='object', length=4651)\n",
      "Rents Columns: Index(['ejari_contract_number', 'registration_date', 'contract_start_date',\n",
      "       'contract_end_date', 'version_number', 'version_text',\n",
      "       'contract_amount', 'annual_amount', 'is_freehold', 'is_freehold_text',\n",
      "       ...\n",
      "       'req_to_2024-02-29', 'req_to_2024-03-31', 'req_to_2024-04-30',\n",
      "       'req_to_2024-05-31', 'req_to_2024-06-30', 'req_to_2024-07-30',\n",
      "       'req_to_2024-08-31', 'req_to_2024-09-25', 'transaction_datetime',\n",
      "       'transaction_datetime_numeric'],\n",
      "      dtype='object', length=3089)\n",
      "Error: 'transaction_size_sqm' is not in rents DataFrame columns.\n",
      "Error: 'building_age' is not in rents DataFrame columns.\n",
      "Error: 'rooms_en' is not in rents DataFrame columns.\n",
      "Error: 'rooms_ar' is not in rents DataFrame columns.\n"
     ]
    }
   ],
   "source": [
    "# Ensure that you are selecting columns correctly\n",
    "numerical_columns = ['transaction_size_sqm', 'building_age', 'rooms_en', 'rooms_ar']\n",
    "\n",
    "# Ensure columns are available in both DataFrames before selecting\n",
    "print(\"Transactions Columns:\", transactions.columns)\n",
    "print(\"Rents Columns:\", rents.columns)\n",
    "\n",
    "# Check if columns exist in the DataFrame\n",
    "for col in numerical_columns:\n",
    "    if col not in transactions.columns:\n",
    "        print(f\"Error: '{col}' is not in transactions DataFrame columns.\")\n",
    "    if col not in rents.columns:\n",
    "        print(f\"Error: '{col}' is not in rents DataFrame columns.\")"
   ]
  },
  {
   "cell_type": "code",
   "execution_count": 136,
   "id": "35d0be3a-eb3e-4b10-9391-d203edbed607",
   "metadata": {},
   "outputs": [
    {
     "name": "stdout",
     "output_type": "stream",
     "text": [
      "Transactions shape after filtering: (30895, 4651)\n",
      "Rents shape after filtering: (31850, 3089)\n"
     ]
    }
   ],
   "source": [
    "# Ensure that the DataFrame is not empty after any filtering operation\n",
    "print(f\"Transactions shape after filtering: {transactions.shape}\")\n",
    "print(f\"Rents shape after filtering: {rents.shape}\")"
   ]
  },
  {
   "cell_type": "code",
   "execution_count": 138,
   "id": "41c293c1-d503-4f2a-94f5-84c7d8d4484a",
   "metadata": {},
   "outputs": [
    {
     "name": "stdout",
     "output_type": "stream",
     "text": [
      "Shape of X after cleaning: (0, 4650)\n",
      "Shape of y after cleaning: (0,)\n"
     ]
    }
   ],
   "source": [
    "# Check the shape of X and y after cleaning\n",
    "print(f\"Shape of X after cleaning: {X.shape}\")\n",
    "print(f\"Shape of y after cleaning: {y.shape}\")"
   ]
  },
  {
   "cell_type": "code",
   "execution_count": 139,
   "id": "a4305ba9-e9af-468f-a633-9c3c75545d55",
   "metadata": {},
   "outputs": [
    {
     "name": "stdout",
     "output_type": "stream",
     "text": [
      "Missing values in 'property_size_sqm' in transactions: 0\n",
      "Missing values in 'property_size_sqm' in rents: 0\n",
      "Percentage of missing values in 'property_size_sqm' in transactions: 0.00%\n"
     ]
    }
   ],
   "source": [
    "# Check how many missing values there are in 'property_size_sqm'\n",
    "missing_property_size_sqm = transactions['property_size_sqm'].isnull().sum()\n",
    "print(f\"Missing values in 'property_size_sqm' in transactions: {missing_property_size_sqm}\")\n",
    "print(f\"Missing values in 'property_size_sqm' in rents: {rents['property_size_sqm'].isnull().sum()}\")\n",
    "\n",
    "# Also check the percentage of missing values\n",
    "transactions_percentage_missing = missing_property_size_sqm / len(transactions) * 100\n",
    "print(f\"Percentage of missing values in 'property_size_sqm' in transactions: {transactions_percentage_missing:.2f}%\")"
   ]
  },
  {
   "cell_type": "code",
   "execution_count": 140,
   "id": "ef4155c7-e126-4b9e-adcd-8df4ba9b19d2",
   "metadata": {},
   "outputs": [
    {
     "name": "stdout",
     "output_type": "stream",
     "text": [
      "Missing values in 'property_size_sqm' after imputation (transactions): 0\n",
      "Missing values in 'property_size_sqm' after imputation (rents): 0\n"
     ]
    }
   ],
   "source": [
    "# Impute missing values in 'property_size_sqm' with the median (for both transactions and rents)\n",
    "transactions['property_size_sqm'].fillna(transactions['property_size_sqm'].median(), inplace=True)\n",
    "rents['property_size_sqm'].fillna(rents['property_size_sqm'].median(), inplace=True)\n",
    "\n",
    "# Check if missing values are imputed\n",
    "print(\"Missing values in 'property_size_sqm' after imputation (transactions):\", transactions['property_size_sqm'].isnull().sum())\n",
    "print(\"Missing values in 'property_size_sqm' after imputation (rents):\", rents['property_size_sqm'].isnull().sum())"
   ]
  },
  {
   "cell_type": "code",
   "execution_count": 141,
   "id": "b462019a-3413-4bb5-974e-e27f43fe3a5b",
   "metadata": {},
   "outputs": [
    {
     "name": "stdout",
     "output_type": "stream",
     "text": [
      "Shape of X after cleaning: (12140, 4650)\n",
      "Shape of y after cleaning: (12140,)\n"
     ]
    }
   ],
   "source": [
    "# Drop rows where 'property_size_sqm' is missing (target variable)\n",
    "transactions.dropna(subset=['property_size_sqm'], inplace=True)\n",
    "rents.dropna(subset=['property_size_sqm'], inplace=True)\n",
    "\n",
    "# Reassign features and target after removing rows with missing target values\n",
    "X = transactions.drop(columns=['property_size_sqm'])\n",
    "y = transactions['property_size_sqm']\n",
    "\n",
    "# Check shape again after cleaning\n",
    "print(f\"Shape of X after cleaning: {X.shape}\")\n",
    "print(f\"Shape of y after cleaning: {y.shape}\")"
   ]
  },
  {
   "cell_type": "code",
   "execution_count": 142,
   "id": "a6b8e76a-db30-4381-bb77-b600f9d8c67d",
   "metadata": {},
   "outputs": [
    {
     "name": "stdout",
     "output_type": "stream",
     "text": [
      "Shape of X after cleaning: (12140, 4650)\n",
      "Shape of y after cleaning: (12140,)\n"
     ]
    }
   ],
   "source": [
    "# Verify that X and y are no longer empty\n",
    "print(f\"Shape of X after cleaning: {X.shape}\")\n",
    "print(f\"Shape of y after cleaning: {y.shape}\")\n",
    "\n",
    "# Ensure there are enough rows to proceed with training and testing\n",
    "if X.shape[0] > 0 and y.shape[0] > 0:\n",
    "    X_train, X_test, y_train, y_test = train_test_split(X, y, test_size=0.2, random_state=42)\n",
    "else:\n",
    "    print(\"Error: Data is empty after cleaning.\")"
   ]
  },
  {
   "cell_type": "code",
   "execution_count": 143,
   "id": "43d72e47-fe91-4387-bcb7-76fe886ce2fd",
   "metadata": {},
   "outputs": [
    {
     "name": "stdout",
     "output_type": "stream",
     "text": [
      "Shape of X_train: (9712, 4650)\n",
      "Shape of X_test: (2428, 4650)\n",
      "Shape of y_train: (9712,)\n",
      "Shape of y_test: (2428,)\n"
     ]
    }
   ],
   "source": [
    "from sklearn.model_selection import train_test_split\n",
    "\n",
    "# Split the data into training and testing sets (80% train, 20% test)\n",
    "X_train, X_test, y_train, y_test = train_test_split(X, y, test_size=0.2, random_state=42)\n",
    "\n",
    "# Verify the shape of the training and testing data\n",
    "print(f\"Shape of X_train: {X_train.shape}\")\n",
    "print(f\"Shape of X_test: {X_test.shape}\")\n",
    "print(f\"Shape of y_train: {y_train.shape}\")\n",
    "print(f\"Shape of y_test: {y_test.shape}\")"
   ]
  },
  {
   "cell_type": "code",
   "execution_count": 145,
   "id": "c0838f5b-ca0d-4e15-bd57-69c9a0caaa75",
   "metadata": {},
   "outputs": [
    {
     "name": "stdout",
     "output_type": "stream",
     "text": [
      "transaction_number                     float64\n",
      "transaction_datetime            datetime64[ns]\n",
      "transaction_type_en                     object\n",
      "transaction_type_id                      int64\n",
      "transaction_subtype_en                  object\n",
      "                                     ...      \n",
      "req_to_2024-07-31                         bool\n",
      "req_to_2024-08-31                         bool\n",
      "req_to_2024-09-25                         bool\n",
      "transaction_datetime_numeric           float64\n",
      "transaction_type_en_encoded              int32\n",
      "Length: 4650, dtype: object\n",
      "Columns with datetime data: Index(['transaction_datetime'], dtype='object')\n"
     ]
    }
   ],
   "source": [
    "# Check the types of columns in X_train\n",
    "print(X_train.dtypes)\n",
    "\n",
    "# Look for columns with datetime64 type\n",
    "datetime_columns = X_train.select_dtypes(include=['datetime64']).columns\n",
    "print(f\"Columns with datetime data: {datetime_columns}\")"
   ]
  },
  {
   "cell_type": "code",
   "execution_count": 151,
   "id": "680648f8-3667-4413-b384-79f51978c836",
   "metadata": {},
   "outputs": [],
   "source": [
    "# Convert datetime columns to numeric (timestamps in seconds)\n",
    "for col in datetime_columns:\n",
    "    # Convert to int64 (nanoseconds) first, then divide by 10^9 to get seconds\n",
    "    X_train[col] = X_train[col].astype('int64') / 10**9\n",
    "    X_test[col] = X_test[col].astype('int64') / 10**9\n"
   ]
  },
  {
   "cell_type": "code",
   "execution_count": 152,
   "id": "d2c8781e-2f73-41a4-b768-5b48910cbb81",
   "metadata": {},
   "outputs": [
    {
     "name": "stdout",
     "output_type": "stream",
     "text": [
      "transaction_number              float64\n",
      "transaction_datetime            float64\n",
      "transaction_type_en              object\n",
      "transaction_type_id               int64\n",
      "transaction_subtype_en           object\n",
      "                                 ...   \n",
      "req_to_2024-07-31                  bool\n",
      "req_to_2024-08-31                  bool\n",
      "req_to_2024-09-25                  bool\n",
      "transaction_datetime_numeric    float64\n",
      "transaction_type_en_encoded       int32\n",
      "Length: 4650, dtype: object\n"
     ]
    }
   ],
   "source": [
    "# Check the types of columns in X_train after conversion\n",
    "print(X_train.dtypes)"
   ]
  },
  {
   "cell_type": "code",
   "execution_count": null,
   "id": "af7a1c61-0392-4e1c-809d-0b786fac3e28",
   "metadata": {},
   "outputs": [],
   "source": [
    "#Feature importance using tree-based models"
   ]
  },
  {
   "cell_type": "code",
   "execution_count": 155,
   "id": "cf10a44f-0d3f-48f6-ab98-01f6495d70db",
   "metadata": {},
   "outputs": [
    {
     "name": "stdout",
     "output_type": "stream",
     "text": [
      "Categorical columns: Index(['transaction_type_en', 'transaction_subtype_en', 'registration_type_en',\n",
      "       'is_freehold_text', 'property_usage_en', 'is_offplan',\n",
      "       'property_subtype_en', 'property_subtype_ar', 'meta_ts'],\n",
      "      dtype='object')\n"
     ]
    }
   ],
   "source": [
    "# Identify categorical columns (of type 'object')\n",
    "categorical_columns = X_train.select_dtypes(include=['object']).columns\n",
    "print(f\"Categorical columns: {categorical_columns}\")"
   ]
  },
  {
   "cell_type": "code",
   "execution_count": 161,
   "id": "94df4ac8-640a-470b-9443-2e6714b24c74",
   "metadata": {},
   "outputs": [
    {
     "name": "stdout",
     "output_type": "stream",
     "text": [
      "Columns in X_train: Index(['transaction_number', 'transaction_datetime', 'transaction_type_en',\n",
      "       'transaction_type_id', 'transaction_subtype_en',\n",
      "       'transaction_subtype_id', 'registration_type_en', 'is_freehold_text',\n",
      "       'property_usage_en', 'property_usage_id',\n",
      "       ...\n",
      "       'req_to_2024-02-29', 'req_to_2024-03-31', 'req_to_2024-04-30',\n",
      "       'req_to_2024-05-31', 'req_to_2024-06-30', 'req_to_2024-07-31',\n",
      "       'req_to_2024-08-31', 'req_to_2024-09-25',\n",
      "       'transaction_datetime_numeric', 'transaction_type_en_encoded'],\n",
      "      dtype='object', length=4650)\n",
      "Columns in X_test: Index(['transaction_number', 'transaction_datetime', 'transaction_type_en',\n",
      "       'transaction_type_id', 'transaction_subtype_en',\n",
      "       'transaction_subtype_id', 'registration_type_en', 'is_freehold_text',\n",
      "       'property_usage_en', 'property_usage_id',\n",
      "       ...\n",
      "       'req_to_2024-02-29', 'req_to_2024-03-31', 'req_to_2024-04-30',\n",
      "       'req_to_2024-05-31', 'req_to_2024-06-30', 'req_to_2024-07-31',\n",
      "       'req_to_2024-08-31', 'req_to_2024-09-25',\n",
      "       'transaction_datetime_numeric', 'transaction_type_en_encoded'],\n",
      "      dtype='object', length=4650)\n"
     ]
    }
   ],
   "source": [
    "# Verify that 'property_size_sqm' is in both X_train and X_test\n",
    "print(\"Columns in X_train:\", X_train.columns)\n",
    "print(\"Columns in X_test:\", X_test.columns)"
   ]
  },
  {
   "cell_type": "code",
   "execution_count": 162,
   "id": "a273969d-f080-4010-940b-7322b70417fc",
   "metadata": {},
   "outputs": [],
   "source": [
    "# Strip spaces from all column names in both X_train and X_test\n",
    "X_train.columns = X_train.columns.str.strip()\n",
    "X_test.columns = X_test.columns.str.strip()"
   ]
  },
  {
   "cell_type": "code",
   "execution_count": 163,
   "id": "87bfe262-0075-44e1-960b-c97fe5d5e354",
   "metadata": {},
   "outputs": [
    {
     "name": "stdout",
     "output_type": "stream",
     "text": [
      "Warning: 'property_size_sqm' is not in X_train\n",
      "Warning: 'property_size_sqm' is not in X_test\n"
     ]
    }
   ],
   "source": [
    "if 'property_size_sqm' not in X_train.columns:\n",
    "    print(\"Warning: 'property_size_sqm' is not in X_train\")\n",
    "else:\n",
    "    X_train['property_size_sqm'] = pd.to_numeric(X_train['property_size_sqm'], errors='coerce')\n",
    "\n",
    "if 'property_size_sqm' not in X_test.columns:\n",
    "    print(\"Warning: 'property_size_sqm' is not in X_test\")\n",
    "else:\n",
    "    X_test['property_size_sqm'] = pd.to_numeric(X_test['property_size_sqm'], errors='coerce')"
   ]
  },
  {
   "cell_type": "code",
   "execution_count": 164,
   "id": "1137a7ee-0e32-41bd-8deb-67bd35bce96e",
   "metadata": {},
   "outputs": [
    {
     "name": "stdout",
     "output_type": "stream",
     "text": [
      "Columns in transactions (original dataset): Index(['transaction_number', 'transaction_datetime', 'transaction_type_en',\n",
      "       'transaction_type_id', 'transaction_subtype_en',\n",
      "       'transaction_subtype_id', 'registration_type_en', 'is_freehold_text',\n",
      "       'property_usage_en', 'property_usage_id',\n",
      "       ...\n",
      "       'req_to_2024-02-29', 'req_to_2024-03-31', 'req_to_2024-04-30',\n",
      "       'req_to_2024-05-31', 'req_to_2024-06-30', 'req_to_2024-07-31',\n",
      "       'req_to_2024-08-31', 'req_to_2024-09-25',\n",
      "       'transaction_datetime_numeric', 'transaction_type_en_encoded'],\n",
      "      dtype='object', length=4651)\n",
      "Columns in rents (original dataset): Index(['ejari_contract_number', 'registration_date', 'contract_start_date',\n",
      "       'contract_end_date', 'version_number', 'version_text',\n",
      "       'contract_amount', 'annual_amount', 'is_freehold', 'is_freehold_text',\n",
      "       ...\n",
      "       'req_to_2024-02-29', 'req_to_2024-03-31', 'req_to_2024-04-30',\n",
      "       'req_to_2024-05-31', 'req_to_2024-06-30', 'req_to_2024-07-30',\n",
      "       'req_to_2024-08-31', 'req_to_2024-09-25', 'transaction_datetime',\n",
      "       'transaction_datetime_numeric'],\n",
      "      dtype='object', length=3089)\n"
     ]
    }
   ],
   "source": [
    "# Check if 'property_size_sqm' is in the original DataFrame\n",
    "print(\"Columns in transactions (original dataset):\", transactions.columns)\n",
    "print(\"Columns in rents (original dataset):\", rents.columns)"
   ]
  },
  {
   "cell_type": "code",
   "execution_count": 165,
   "id": "891bc005-856e-4601-a45d-d7f4069cd048",
   "metadata": {},
   "outputs": [
    {
     "name": "stdout",
     "output_type": "stream",
     "text": [
      "Columns in X (features): Index(['transaction_number', 'transaction_datetime', 'transaction_type_en',\n",
      "       'transaction_type_id', 'transaction_subtype_en',\n",
      "       'transaction_subtype_id', 'registration_type_en', 'is_freehold_text',\n",
      "       'property_usage_en', 'property_usage_id',\n",
      "       ...\n",
      "       'req_to_2024-02-29', 'req_to_2024-03-31', 'req_to_2024-04-30',\n",
      "       'req_to_2024-05-31', 'req_to_2024-06-30', 'req_to_2024-07-31',\n",
      "       'req_to_2024-08-31', 'req_to_2024-09-25',\n",
      "       'transaction_datetime_numeric', 'transaction_type_en_encoded'],\n",
      "      dtype='object', length=4650)\n",
      "Columns in y (target): property_size_sqm\n",
      "Shape of X_train: (9712, 4650)\n",
      "Shape of X_test: (2428, 4650)\n"
     ]
    }
   ],
   "source": [
    "# Ensure 'property_size_sqm' is included in the features (X) before splitting\n",
    "X = transactions.drop(columns=['property_size_sqm'])  # Exclude target from features\n",
    "y = transactions['property_size_sqm']  # Set 'property_size_sqm' as the target\n",
    "\n",
    "# Verify that 'property_size_sqm' is in X and y\n",
    "print(\"Columns in X (features):\", X.columns)\n",
    "print(\"Columns in y (target):\", y.name)\n",
    "\n",
    "# Split the data into training and testing sets\n",
    "from sklearn.model_selection import train_test_split\n",
    "\n",
    "X_train, X_test, y_train, y_test = train_test_split(X, y, test_size=0.2, random_state=42)\n",
    "\n",
    "# Check the shapes of the splits to verify\n",
    "print(f\"Shape of X_train: {X_train.shape}\")\n",
    "print(f\"Shape of X_test: {X_test.shape}\")"
   ]
  },
  {
   "cell_type": "code",
   "execution_count": 176,
   "id": "8b06d8bf-5ba6-4044-b053-20c8de3ca37a",
   "metadata": {},
   "outputs": [
    {
     "name": "stdout",
     "output_type": "stream",
     "text": [
      "Columns in X_train after dropping 'contract_start_date': Index(['transaction_number', 'transaction_datetime', 'transaction_type_en',\n",
      "       'transaction_type_id', 'transaction_subtype_en',\n",
      "       'transaction_subtype_id', 'registration_type_en', 'is_freehold_text',\n",
      "       'property_usage_en', 'property_usage_id',\n",
      "       ...\n",
      "       'req_to_2024-02-29', 'req_to_2024-03-31', 'req_to_2024-04-30',\n",
      "       'req_to_2024-05-31', 'req_to_2024-06-30', 'req_to_2024-07-31',\n",
      "       'req_to_2024-08-31', 'req_to_2024-09-25',\n",
      "       'transaction_datetime_numeric', 'transaction_type_en_encoded'],\n",
      "      dtype='object', length=4650)\n",
      "Columns in X_test after dropping 'contract_start_date': Index(['transaction_number', 'transaction_datetime', 'transaction_type_en',\n",
      "       'transaction_type_id', 'transaction_subtype_en',\n",
      "       'transaction_subtype_id', 'registration_type_en', 'is_freehold_text',\n",
      "       'property_usage_en', 'property_usage_id',\n",
      "       ...\n",
      "       'req_to_2024-02-29', 'req_to_2024-03-31', 'req_to_2024-04-30',\n",
      "       'req_to_2024-05-31', 'req_to_2024-06-30', 'req_to_2024-07-31',\n",
      "       'req_to_2024-08-31', 'req_to_2024-09-25',\n",
      "       'transaction_datetime_numeric', 'transaction_type_en_encoded'],\n",
      "      dtype='object', length=4650)\n"
     ]
    }
   ],
   "source": [
    "# Drop 'contract_start_date' from both X_train and X_test\n",
    "X_train = X_train.drop(columns=['contract_start_date'], errors='ignore')\n",
    "X_test = X_test.drop(columns=['contract_start_date'], errors='ignore')\n",
    "\n",
    "# Verify that the column is removed\n",
    "print(\"Columns in X_train after dropping 'contract_start_date':\", X_train.columns)\n",
    "print(\"Columns in X_test after dropping 'contract_start_date':\", X_test.columns)"
   ]
  },
  {
   "cell_type": "code",
   "execution_count": 182,
   "id": "caf28237-6e76-45ba-9e0e-27b5a7e029bc",
   "metadata": {},
   "outputs": [],
   "source": [
    "##Recursive Feature Elimination (RFE)"
   ]
  },
  {
   "cell_type": "code",
   "execution_count": 184,
   "id": "7c211a8c-7081-4697-9dfb-84a07a55bd5b",
   "metadata": {},
   "outputs": [
    {
     "name": "stdout",
     "output_type": "stream",
     "text": [
      "       transaction_number  transaction_datetime  transaction_type_en  \\\n",
      "10591                 NaN          1.707301e+09                    1   \n",
      "9165                  NaN          1.707310e+09                    2   \n",
      "4952                  NaN          1.704717e+09                    2   \n",
      "2360                  NaN          1.706292e+09                    2   \n",
      "7889                  NaN          1.708971e+09                    2   \n",
      "\n",
      "       transaction_type_id   transaction_subtype_en  transaction_subtype_id  \\\n",
      "10591                    1    Mortgage Registration                       0   \n",
      "9165                     0                     Sale                       0   \n",
      "4952                     0                     Sale                       0   \n",
      "2360                     0  Sell - Pre registration                       0   \n",
      "7889                     0  Sell - Pre registration                       0   \n",
      "\n",
      "      registration_type_en  is_freehold_text  property_usage_en  \\\n",
      "10591                Ready                 1                  1   \n",
      "9165                 Ready                 0                  1   \n",
      "4952                 Ready                 0                  1   \n",
      "2360              Off-Plan                 0                  1   \n",
      "7889              Off-Plan                 0                  1   \n",
      "\n",
      "       property_usage_id  ...  req_to_2024-02-29  req_to_2024-03-31  \\\n",
      "10591                  0  ...               True              False   \n",
      "9165                   0  ...               True              False   \n",
      "4952                   0  ...              False              False   \n",
      "2360                   0  ...              False              False   \n",
      "7889                   0  ...               True              False   \n",
      "\n",
      "       req_to_2024-04-30  req_to_2024-05-31  req_to_2024-06-30  \\\n",
      "10591              False              False              False   \n",
      "9165               False              False              False   \n",
      "4952               False              False              False   \n",
      "2360               False              False              False   \n",
      "7889               False              False              False   \n",
      "\n",
      "       req_to_2024-07-31 req_to_2024-08-31  req_to_2024-09-25  \\\n",
      "10591              False             False              False   \n",
      "9165               False             False              False   \n",
      "4952               False             False              False   \n",
      "2360               False             False              False   \n",
      "7889               False             False              False   \n",
      "\n",
      "       transaction_datetime_numeric transaction_type_en_encoded  \n",
      "10591                  1.707301e+09                           1  \n",
      "9165                   1.707310e+09                           2  \n",
      "4952                   1.704717e+09                           2  \n",
      "2360                   1.706292e+09                           2  \n",
      "7889                   1.708971e+09                           2  \n",
      "\n",
      "[5 rows x 4650 columns]\n"
     ]
    }
   ],
   "source": [
    "from sklearn.preprocessing import LabelEncoder\n",
    "\n",
    "# List of categorical columns that need encoding (replace this with your actual categorical column names)\n",
    "categorical_columns = ['transaction_type_en', 'property_usage_en', 'is_freehold_text', 'payment_method']  # Update with actual categorical columns\n",
    "\n",
    "# Initialize the LabelEncoder\n",
    "label_encoder = LabelEncoder()\n",
    "\n",
    "# Apply LabelEncoder to each categorical column\n",
    "for col in categorical_columns:\n",
    "    if col in X_train.columns:\n",
    "        X_train[col] = label_encoder.fit_transform(X_train[col].astype(str))  # Convert the column to string first\n",
    "        X_test[col] = label_encoder.transform(X_test[col].astype(str))  # Use the same encoder for X_test\n",
    "\n",
    "# Check the transformation\n",
    "print(X_train.head())\n",
    "\n",
    "# Proceed with RFE or any other model training"
   ]
  },
  {
   "cell_type": "code",
   "execution_count": 188,
   "id": "4d78dafb-820b-4e4a-b9c9-1cac0a977e44",
   "metadata": {},
   "outputs": [],
   "source": [
    "import pandas as pd\n",
    "from sklearn.preprocessing import LabelEncoder\n",
    "from sklearn.ensemble import RandomForestRegressor\n",
    "\n",
    "def auto_convert_columns(df):\n",
    "    \"\"\"\n",
    "    Automatically converts columns to appropriate numeric or categorical types.\n",
    "    \n",
    "    Args:\n",
    "        df (DataFrame): The input DataFrame to process.\n",
    "    \n",
    "    Returns:\n",
    "        df (DataFrame): The processed DataFrame with converted types.\n",
    "    \"\"\"\n",
    "    # Initialize LabelEncoder for categorical columns\n",
    "    label_encoder = LabelEncoder()\n",
    "    \n",
    "    # Iterate through each column in the DataFrame\n",
    "    for col in df.columns:\n",
    "        # If column is of type object (string or mixed types)\n",
    "        if df[col].dtype == 'object':\n",
    "            try:\n",
    "                # Try to convert to numeric\n",
    "                df[col] = pd.to_numeric(df[col], errors='coerce')  # Coerce invalid parsing to NaN\n",
    "                if df[col].isnull().sum() == 0:  # Check if conversion was successful (no NaNs)\n",
    "                    print(f\"Column '{col}' successfully converted to numeric.\")\n",
    "                else:\n",
    "                    # Handle categorical data (if numeric conversion fails)\n",
    "                    df[col] = label_encoder.fit_transform(df[col].astype(str))  # Label encode as integers\n",
    "                    print(f\"Column '{col}' is categorical and has been label encoded.\")\n",
    "            except Exception as e:\n",
    "                print(f\"Failed to convert column '{col}' to numeric: {e}\")\n",
    "                # Fallback: treat as categorical and label encode\n",
    "                df[col] = label_encoder.fit_transform(df[col].astype(str))\n",
    "                print(f\"Column '{col}' is treated as categorical and label encoded.\")\n",
    "        else:\n",
    "            print(f\"Column '{col}' is already numeric.\")\n",
    "    \n",
    "    # Return the modified DataFrame\n",
    "    return df"
   ]
  },
  {
   "cell_type": "code",
   "execution_count": 191,
   "id": "fb9ff376-fcbf-482a-a122-2bab82f1cf19",
   "metadata": {},
   "outputs": [
    {
     "ename": "KeyboardInterrupt",
     "evalue": "",
     "output_type": "error",
     "traceback": [
      "\u001b[1;31m---------------------------------------------------------------------------\u001b[0m",
      "\u001b[1;31mKeyboardInterrupt\u001b[0m                         Traceback (most recent call last)",
      "Cell \u001b[1;32mIn[191], line 18\u001b[0m\n\u001b[0;32m     15\u001b[0m selector \u001b[38;5;241m=\u001b[39m RFE(model, n_features_to_select\u001b[38;5;241m=\u001b[39m\u001b[38;5;241m10\u001b[39m)  \u001b[38;5;66;03m# Select top 10 features (adjust as needed)\u001b[39;00m\n\u001b[0;32m     17\u001b[0m \u001b[38;5;66;03m# Fit RFE to the imputed training data\u001b[39;00m\n\u001b[1;32m---> 18\u001b[0m selector \u001b[38;5;241m=\u001b[39m selector\u001b[38;5;241m.\u001b[39mfit(X_train_imputed, y_train)\n\u001b[0;32m     20\u001b[0m \u001b[38;5;66;03m# Get the ranking of features (1 means selected, larger numbers mean less important)\u001b[39;00m\n\u001b[0;32m     21\u001b[0m ranking \u001b[38;5;241m=\u001b[39m selector\u001b[38;5;241m.\u001b[39mranking_\n",
      "File \u001b[1;32mC:\\ProgramData\\anaconda3\\Lib\\site-packages\\sklearn\\feature_selection\\_rfe.py:251\u001b[0m, in \u001b[0;36mRFE.fit\u001b[1;34m(self, X, y, **fit_params)\u001b[0m\n\u001b[0;32m    231\u001b[0m \u001b[38;5;250m\u001b[39m\u001b[38;5;124;03m\"\"\"Fit the RFE model and then the underlying estimator on the selected features.\u001b[39;00m\n\u001b[0;32m    232\u001b[0m \n\u001b[0;32m    233\u001b[0m \u001b[38;5;124;03mParameters\u001b[39;00m\n\u001b[1;32m   (...)\u001b[0m\n\u001b[0;32m    248\u001b[0m \u001b[38;5;124;03m    Fitted estimator.\u001b[39;00m\n\u001b[0;32m    249\u001b[0m \u001b[38;5;124;03m\"\"\"\u001b[39;00m\n\u001b[0;32m    250\u001b[0m \u001b[38;5;28mself\u001b[39m\u001b[38;5;241m.\u001b[39m_validate_params()\n\u001b[1;32m--> 251\u001b[0m \u001b[38;5;28;01mreturn\u001b[39;00m \u001b[38;5;28mself\u001b[39m\u001b[38;5;241m.\u001b[39m_fit(X, y, \u001b[38;5;241m*\u001b[39m\u001b[38;5;241m*\u001b[39mfit_params)\n",
      "File \u001b[1;32mC:\\ProgramData\\anaconda3\\Lib\\site-packages\\sklearn\\feature_selection\\_rfe.py:299\u001b[0m, in \u001b[0;36mRFE._fit\u001b[1;34m(self, X, y, step_score, **fit_params)\u001b[0m\n\u001b[0;32m    296\u001b[0m \u001b[38;5;28;01mif\u001b[39;00m \u001b[38;5;28mself\u001b[39m\u001b[38;5;241m.\u001b[39mverbose \u001b[38;5;241m>\u001b[39m \u001b[38;5;241m0\u001b[39m:\n\u001b[0;32m    297\u001b[0m     \u001b[38;5;28mprint\u001b[39m(\u001b[38;5;124m\"\u001b[39m\u001b[38;5;124mFitting estimator with \u001b[39m\u001b[38;5;132;01m%d\u001b[39;00m\u001b[38;5;124m features.\u001b[39m\u001b[38;5;124m\"\u001b[39m \u001b[38;5;241m%\u001b[39m np\u001b[38;5;241m.\u001b[39msum(support_))\n\u001b[1;32m--> 299\u001b[0m estimator\u001b[38;5;241m.\u001b[39mfit(X[:, features], y, \u001b[38;5;241m*\u001b[39m\u001b[38;5;241m*\u001b[39mfit_params)\n\u001b[0;32m    301\u001b[0m \u001b[38;5;66;03m# Get importance and rank them\u001b[39;00m\n\u001b[0;32m    302\u001b[0m importances \u001b[38;5;241m=\u001b[39m _get_feature_importances(\n\u001b[0;32m    303\u001b[0m     estimator,\n\u001b[0;32m    304\u001b[0m     \u001b[38;5;28mself\u001b[39m\u001b[38;5;241m.\u001b[39mimportance_getter,\n\u001b[0;32m    305\u001b[0m     transform_func\u001b[38;5;241m=\u001b[39m\u001b[38;5;124m\"\u001b[39m\u001b[38;5;124msquare\u001b[39m\u001b[38;5;124m\"\u001b[39m,\n\u001b[0;32m    306\u001b[0m )\n",
      "File \u001b[1;32mC:\\ProgramData\\anaconda3\\Lib\\site-packages\\sklearn\\linear_model\\_base.py:704\u001b[0m, in \u001b[0;36mLinearRegression.fit\u001b[1;34m(self, X, y, sample_weight)\u001b[0m\n\u001b[0;32m    702\u001b[0m \u001b[38;5;28;01mif\u001b[39;00m y\u001b[38;5;241m.\u001b[39mndim \u001b[38;5;241m==\u001b[39m \u001b[38;5;241m1\u001b[39m:\n\u001b[0;32m    703\u001b[0m     \u001b[38;5;28mself\u001b[39m\u001b[38;5;241m.\u001b[39mcoef_ \u001b[38;5;241m=\u001b[39m np\u001b[38;5;241m.\u001b[39mravel(\u001b[38;5;28mself\u001b[39m\u001b[38;5;241m.\u001b[39mcoef_)\n\u001b[1;32m--> 704\u001b[0m \u001b[38;5;28mself\u001b[39m\u001b[38;5;241m.\u001b[39m_set_intercept(X_offset, y_offset, X_scale)\n\u001b[0;32m    705\u001b[0m \u001b[38;5;28;01mreturn\u001b[39;00m \u001b[38;5;28mself\u001b[39m\n",
      "File \u001b[1;32mC:\\ProgramData\\anaconda3\\Lib\\site-packages\\sklearn\\linear_model\\_base.py:362\u001b[0m, in \u001b[0;36mLinearModel._set_intercept\u001b[1;34m(self, X_offset, y_offset, X_scale)\u001b[0m\n\u001b[0;32m    358\u001b[0m \u001b[38;5;28;01mif\u001b[39;00m \u001b[38;5;28mself\u001b[39m\u001b[38;5;241m.\u001b[39mfit_intercept:\n\u001b[0;32m    359\u001b[0m     \u001b[38;5;66;03m# We always want coef_.dtype=X.dtype. For instance, X.dtype can differ from\u001b[39;00m\n\u001b[0;32m    360\u001b[0m     \u001b[38;5;66;03m# coef_.dtype if warm_start=True.\u001b[39;00m\n\u001b[0;32m    361\u001b[0m     \u001b[38;5;28mself\u001b[39m\u001b[38;5;241m.\u001b[39mcoef_ \u001b[38;5;241m=\u001b[39m np\u001b[38;5;241m.\u001b[39mdivide(\u001b[38;5;28mself\u001b[39m\u001b[38;5;241m.\u001b[39mcoef_, X_scale, dtype\u001b[38;5;241m=\u001b[39mX_scale\u001b[38;5;241m.\u001b[39mdtype)\n\u001b[1;32m--> 362\u001b[0m     \u001b[38;5;28mself\u001b[39m\u001b[38;5;241m.\u001b[39mintercept_ \u001b[38;5;241m=\u001b[39m y_offset \u001b[38;5;241m-\u001b[39m np\u001b[38;5;241m.\u001b[39mdot(X_offset, \u001b[38;5;28mself\u001b[39m\u001b[38;5;241m.\u001b[39mcoef_\u001b[38;5;241m.\u001b[39mT)\n\u001b[0;32m    363\u001b[0m \u001b[38;5;28;01melse\u001b[39;00m:\n\u001b[0;32m    364\u001b[0m     \u001b[38;5;28mself\u001b[39m\u001b[38;5;241m.\u001b[39mintercept_ \u001b[38;5;241m=\u001b[39m \u001b[38;5;241m0.0\u001b[39m\n",
      "\u001b[1;31mKeyboardInterrupt\u001b[0m: "
     ]
    }
   ],
   "source": [
    "from sklearn.impute import SimpleImputer\n",
    "from sklearn.feature_selection import RFE\n",
    "from sklearn.linear_model import LinearRegression\n",
    "from sklearn.metrics import mean_squared_error, r2_score\n",
    "\n",
    "# Impute missing values (use the mean strategy to fill NaNs)\n",
    "imputer = SimpleImputer(strategy='mean')  # You can change 'mean' to 'median' or 'most_frequent' if needed\n",
    "X_train_imputed = imputer.fit_transform(X_train)\n",
    "X_test_imputed = imputer.transform(X_test)\n",
    "\n",
    "# Initialize the model (Linear Regression here)\n",
    "model = LinearRegression()\n",
    "\n",
    "# Initialize RFE (We specify the number of features we want to select)\n",
    "selector = RFE(model, n_features_to_select=10)  # Select top 10 features (adjust as needed)\n",
    "\n",
    "# Fit RFE to the imputed training data\n",
    "selector = selector.fit(X_train_imputed, y_train)\n",
    "\n",
    "# Get the ranking of features (1 means selected, larger numbers mean less important)\n",
    "ranking = selector.ranking_\n",
    "\n",
    "# Display selected features based on their ranking\n",
    "selected_features = X_train.columns[selector.support_]  # Only the selected features\n",
    "print(\"Selected features:\", selected_features)\n",
    "\n",
    "# Optionally, you can use the selected features to train a model\n",
    "X_train_selected = X_train[selected_features]\n",
    "X_test_selected = X_test[selected_features]\n",
    "\n",
    "# Train the model with the selected features and make predictions\n",
    "model.fit(X_train_selected, y_train)\n",
    "y_pred = model.predict(X_test_selected)\n",
    "\n",
    "# Evaluate the model's performance (optional)\n",
    "rmse = mean_squared_error(y_test, y_pred, squared=False)  # RMSE (Root Mean Squared Error)\n",
    "r2 = r2_score(y_test, y_pred)  # R-squared score\n",
    "\n",
    "print(f'RMSE: {rmse}')\n",
    "print(f'R-squared: {r2}')"
   ]
  },
  {
   "cell_type": "code",
   "execution_count": null,
   "id": "0db1afed-2840-4c6c-98fc-39df83362d80",
   "metadata": {},
   "outputs": [],
   "source": [
    "#Univariate Feature Selection"
   ]
  },
  {
   "cell_type": "code",
   "execution_count": null,
   "id": "b671df62-d307-4b86-bcee-c3deb8435958",
   "metadata": {},
   "outputs": [],
   "source": [
    "from sklearn.feature_selection import SelectKBest, f_regression\n",
    "from sklearn.metrics import mean_squared_error, r2_score\n",
    "from sklearn.linear_model import LinearRegression\n",
    "import matplotlib.pyplot as plt\n",
    "import pandas as pd\n",
    "\n",
    "# Ensure that the data is clean and missing values are handled\n",
    "# If you haven't done it yet, fill missing values (e.g., with mean imputation)\n",
    "from sklearn.impute import SimpleImputer\n",
    "imputer = SimpleImputer(strategy='mean')  # You can change this to 'median' or 'most_frequent'\n",
    "X_train_imputed = imputer.fit_transform(X_train)\n",
    "X_test_imputed = imputer.transform(X_test)\n",
    "\n",
    "# Select the top K features (for example, top 10)\n",
    "selector = SelectKBest(score_func=f_regression, k=10)  # k=10 selects the top 10 features\n",
    "X_train_selected = selector.fit_transform(X_train_imputed, y_train)\n",
    "\n",
    "# Get the indices of the selected features\n",
    "selected_columns = X_train.columns[selector.get_support()]  # Get feature names\n",
    "\n",
    "print(\"Selected features:\", selected_columns)\n",
    "\n",
    "# Optionally, you can visualize the feature importance\n",
    "feature_scores = selector.scores_\n",
    "importance_df = pd.DataFrame({\n",
    "    'Feature': X_train.columns,\n",
    "    'Score': feature_scores\n",
    "})\n",
    "\n",
    "# Sort the features by score\n",
    "importance_df = importance_df.sort_values(by='Score', ascending=False)\n",
    "\n",
    "# Display the top 10 features with the highest score\n",
    "print(importance_df.head(10))\n",
    "\n",
    "# Now, train a model with the selected features\n",
    "X_train_selected_df = pd.DataFrame(X_train_selected, columns=selected_columns)\n",
    "\n",
    "# Train the model with the selected features\n",
    "model = LinearRegression()\n",
    "model.fit(X_train_selected_df, y_train)\n",
    "\n",
    "# Predict using the test data\n",
    "X_test_selected = X_test_imputed[:, selector.get_support()]  # Select the same features in X_test\n",
    "y_pred = model.predict(X_test_selected)\n",
    "\n",
    "# Evaluate the model's performance\n",
    "rmse = mean_squared_error(y_test, y_pred, squared=False)  # RMSE (Root Mean Squared Error)\n",
    "r2 = r2_score(y_test, y_pred)  # R-squared score\n",
    "\n",
    "print(f'RMSE: {rmse}')\n",
    "print(f'R-squared: {r2}')"
   ]
  },
  {
   "cell_type": "code",
   "execution_count": null,
   "id": "ce61cbdd-03ad-4298-aeda-5f6b3dc9668c",
   "metadata": {},
   "outputs": [],
   "source": [
    "#Combine selected features"
   ]
  },
  {
   "cell_type": "code",
   "execution_count": null,
   "id": "be5c0205-fee1-418a-8c7c-e70c6b97b3c4",
   "metadata": {},
   "outputs": [],
   "source": [
    "from sklearn.feature_selection import SelectKBest, f_regression\n",
    "from sklearn.linear_model import LinearRegression\n",
    "from sklearn.metrics import mean_squared_error, r2_score\n",
    "import matplotlib.pyplot as plt\n",
    "import seaborn as sns\n",
    "import pandas as pd\n",
    "\n",
    "# Ensure that the data is clean and missing values are handled\n",
    "# If you haven't done it yet, fill missing values (e.g., with mean imputation)\n",
    "from sklearn.impute import SimpleImputer\n",
    "\n",
    "# Impute missing values\n",
    "imputer = SimpleImputer(strategy='mean')  # You can change this to 'median' or 'most_frequent'\n",
    "X_train_imputed = imputer.fit_transform(X_train)\n",
    "X_test_imputed = imputer.transform(X_test)\n",
    "\n",
    "# Select the top K features (for example, top 10)\n",
    "selector = SelectKBest(score_func=f_regression, k=10)  # k=10 selects the top 10 features\n",
    "X_train_selected = selector.fit_transform(X_train_imputed, y_train)\n",
    "\n",
    "# Get the names of the selected features\n",
    "selected_columns = X_train.columns[selector.get_support()]  # Get feature names of the selected columns\n",
    "print(\"Selected features:\", selected_columns)\n",
    "\n",
    "# Create a DataFrame from the selected features for both train and test sets\n",
    "X_train_selected_df = pd.DataFrame(X_train_selected, columns=selected_columns)\n",
    "X_test_selected = X_test_imputed[:, selector.get_support()]  # Select the same features in X_test\n",
    "X_test_selected_df = pd.DataFrame(X_test_selected, columns=selected_columns)\n",
    "\n",
    "# Now you have your selected features combined in X_train_selected_df and X_test_selected_df\n",
    "\n",
    "# Visualize the importance of the features (optional)\n",
    "feature_scores = selector.scores_\n",
    "importance_df = pd.DataFrame({\n",
    "    'Feature': X_train.columns,\n",
    "    'Score': feature_scores\n",
    "})\n",
    "importance_df = importance_df.sort_values(by='Score', ascending=False)\n",
    "\n",
    "# Display the top 10 features with the highest score\n",
    "print(importance_df.head(10))\n",
    "\n",
    "# Train the model using the selected features\n",
    "model = LinearRegression()\n",
    "model.fit(X_train_selected_df, y_train)\n",
    "\n",
    "# Make predictions\n",
    "y_pred = model.predict(X_test_selected_df)\n",
    "\n",
    "# Evaluate the model\n",
    "rmse = mean_squared_error(y_test, y_pred, squared=False)  # RMSE (Root Mean Squared Error)\n",
    "r2 = r2_score(y_test, y_pred)  # R-squared score\n",
    "\n",
    "print(f'RMSE: {rmse}')\n",
    "print(f'R-squared: {r2}')"
   ]
  },
  {
   "cell_type": "code",
   "execution_count": null,
   "id": "e5803d85-a2ea-4cec-8fcc-729b91996dce",
   "metadata": {},
   "outputs": [],
   "source": [
    "#Implement base models and hyperparameter optimization in `base_models.py`: #XGBoost"
   ]
  },
  {
   "cell_type": "code",
   "execution_count": null,
   "id": "582845bb-ba55-4c00-b42f-f4596d1d9dc3",
   "metadata": {},
   "outputs": [],
   "source": [
    "pip install xgboost"
   ]
  },
  {
   "cell_type": "code",
   "execution_count": null,
   "id": "5ee37f5d-d0e7-4bcf-a8c4-4b2811a072db",
   "metadata": {},
   "outputs": [],
   "source": [
    "import xgboost as xgb\n",
    "from sklearn.model_selection import train_test_split\n",
    "from sklearn.metrics import mean_squared_error, r2_score"
   ]
  },
  {
   "cell_type": "code",
   "execution_count": null,
   "id": "92f62a5b-13da-412f-bd9a-57cd4ce5ef8b",
   "metadata": {},
   "outputs": [],
   "source": [
    "# Split the data into training and testing sets\n",
    "X_train, X_test, y_train, y_test = train_test_split(X, y, test_size=0.2, random_state=42)"
   ]
  },
  {
   "cell_type": "code",
   "execution_count": null,
   "id": "2a18f224-e647-4d42-8564-72720525b567",
   "metadata": {},
   "outputs": [],
   "source": [
    "# Initialize XGBoost Regressor\n",
    "model = xgb.XGBRegressor(\n",
    "    n_estimators=100,      # Number of trees\n",
    "    max_depth=6,           # Maximum depth of the trees\n",
    "    learning_rate=0.1,     # Step size for gradient descent\n",
    "    subsample=0.8,         # Proportion of training data used for fitting each tree\n",
    "    colsample_bytree=0.8,  # Proportion of features used for each tree\n",
    "    random_state=42        # Random seed for reproducibility\n",
    ")\n",
    "\n",
    "# Train the model\n",
    "model.fit(X_train, y_train)"
   ]
  },
  {
   "cell_type": "code",
   "execution_count": null,
   "id": "ce2d8588-f12f-459b-be67-250021cc5abf",
   "metadata": {},
   "outputs": [],
   "source": [
    "y_pred = model.predict(X_test)"
   ]
  },
  {
   "cell_type": "code",
   "execution_count": null,
   "id": "661aa56a-e051-4e32-a856-3283e024aa45",
   "metadata": {},
   "outputs": [],
   "source": [
    "# Evaluate the model\n",
    "rmse = mean_squared_error(y_test, y_pred, squared=False)  # RMSE\n",
    "r2 = r2_score(y_test, y_pred)  # R-squared score\n",
    "\n",
    "print(f'RMSE: {rmse}')\n",
    "print(f'R-squared: {r2}')"
   ]
  },
  {
   "cell_type": "code",
   "execution_count": null,
   "id": "3d3a0890-18cb-4ed8-a68a-2462972b3107",
   "metadata": {},
   "outputs": [],
   "source": [
    "# Get feature importance scores\n",
    "feature_importance = model.feature_importances_\n",
    "\n",
    "# Plot feature importance\n",
    "import matplotlib.pyplot as plt\n",
    "plt.figure(figsize=(10, 6))\n",
    "plt.barh(X.columns, feature_importance)\n",
    "plt.xlabel(\"Feature Importance\")\n",
    "plt.title(\"Feature Importance in XGBoost\")\n",
    "plt.show()"
   ]
  },
  {
   "cell_type": "code",
   "execution_count": null,
   "id": "0e482eb1-6e47-4437-afee-cf63c86c5fcb",
   "metadata": {},
   "outputs": [],
   "source": [
    "# Random Forest Regressor"
   ]
  },
  {
   "cell_type": "code",
   "execution_count": null,
   "id": "12a4ed59-de7a-4aa2-862f-26c8183fbe8f",
   "metadata": {},
   "outputs": [],
   "source": [
    "from sklearn.ensemble import RandomForestRegressor\n",
    "from sklearn.model_selection import train_test_split\n",
    "from sklearn.metrics import mean_squared_error, r2_score\n",
    "import matplotlib.pyplot as plt\n",
    "\n",
    "# Assuming X and y are already defined and cleaned\n",
    "# X_train, X_test, y_train, y_test = train_test_split(X, y, test_size=0.2, random_state=42)\n",
    "\n",
    "# Initialize Random Forest Regressor\n",
    "rf_model = RandomForestRegressor(\n",
    "    n_estimators=100,       # Number of trees in the forest\n",
    "    max_depth=None,          # Max depth of trees\n",
    "    random_state=42,         # Random state for reproducibility\n",
    "    n_jobs=-1,               # Use all available CPU cores\n",
    "    min_samples_split=2,     # Minimum samples required to split a node\n",
    "    min_samples_leaf=1       # Minimum samples required to be a leaf node\n",
    ")\n",
    "\n",
    "# Train the model\n",
    "rf_model.fit(X_train, y_train)\n",
    "\n",
    "# Make predictions\n",
    "y_pred = rf_model.predict(X_test)\n",
    "\n",
    "# Evaluate the model\n",
    "rmse = mean_squared_error(y_test, y_pred, squared=False)  # RMSE\n",
    "r2 = r2_score(y_test, y_pred)  # R-squared score\n",
    "\n",
    "print(f'RMSE: {rmse}')\n",
    "print(f'R-squared: {r2}')\n",
    "\n",
    "# Get feature importance\n",
    "feature_importance = rf_model.feature_importances_\n",
    "\n",
    "# Plot feature importance\n",
    "plt.figure(figsize=(10, 6))\n",
    "plt.barh(X.columns, feature_importance)\n",
    "plt.xlabel(\"Feature Importance\")\n",
    "plt.title(\"Feature Importance in Random Forest\")\n",
    "plt.show()"
   ]
  },
  {
   "cell_type": "code",
   "execution_count": null,
   "id": "815da60a-b45c-4cfc-a2d5-fca01714d858",
   "metadata": {},
   "outputs": [],
   "source": [
    "# Support Vector Regression"
   ]
  },
  {
   "cell_type": "code",
   "execution_count": null,
   "id": "14e8f5f1-7d21-4495-a4d9-fbb7d183d9dc",
   "metadata": {},
   "outputs": [],
   "source": [
    "from sklearn.svm import SVR\n",
    "from sklearn.model_selection import train_test_split\n",
    "from sklearn.metrics import mean_squared_error, r2_score\n",
    "from sklearn.preprocessing import StandardScaler\n",
    "import matplotlib.pyplot as plt\n",
    "\n",
    "# Assuming X and y are already prepared and cleaned\n",
    "# X_train, X_test, y_train, y_test = train_test_split(X, y, test_size=0.2, random_state=42)\n",
    "\n",
    "# Scale the features\n",
    "scaler_X = StandardScaler()\n",
    "scaler_y = StandardScaler()\n",
    "\n",
    "X_train_scaled = scaler_X.fit_transform(X_train)\n",
    "X_test_scaled = scaler_X.transform(X_test)\n",
    "\n",
    "y_train_scaled = scaler_y.fit_transform(y_train.values.reshape(-1, 1)).flatten()\n",
    "y_test_scaled = scaler_y.transform(y_test.values.reshape(-1, 1)).flatten()\n",
    "\n",
    "# Initialize SVR with an RBF kernel (default kernel)\n",
    "svr_model = SVR(kernel='rbf', C=100, epsilon=0.1)\n",
    "\n",
    "# Train the model\n",
    "svr_model.fit(X_train_scaled, y_train_scaled)\n",
    "\n",
    "# Make predictions\n",
    "y_pred_scaled = svr_model.predict(X_test_scaled)\n",
    "\n",
    "# Inverse transform the scaled predictions and true values back to original scale\n",
    "y_pred = scaler_y.inverse_transform(y_pred_scaled.reshape(-1, 1))\n",
    "y_test_orig = scaler_y.inverse_transform(y_test_scaled.reshape(-1, 1))\n",
    "\n",
    "# Evaluate the model\n",
    "rmse = mean_squared_error(y_test_orig, y_pred, squared=False)\n",
    "r2 = r2_score(y_test_orig, y_pred)\n",
    "\n",
    "print(f'RMSE: {rmse}')\n",
    "print(f'R-squared: {r2}')\n",
    "\n",
    "# Plot predictions vs actual\n",
    "plt.figure(figsize=(10, 6))\n",
    "plt.scatter(y_test_orig, y_pred, color='blue', label='Predicted vs Actual')\n",
    "plt.plot([min(y_test_orig), max(y_test_orig)], [min(y_test_orig), max(y_test_orig)], color='red', lw=2, label=\"Ideal line\")\n",
    "plt.xlabel('True values')\n",
    "plt.ylabel('Predicted values')\n",
    "plt.title('SVR Predictions vs True Values')\n",
    "plt.legend()\n",
    "plt.show()"
   ]
  },
  {
   "cell_type": "code",
   "execution_count": null,
   "id": "39094864-ce67-4fa8-9e05-a09e3d7f84d8",
   "metadata": {},
   "outputs": [],
   "source": [
    "# Use Bayesian Optimization for hyperparameter tuning"
   ]
  },
  {
   "cell_type": "code",
   "execution_count": null,
   "id": "c98b7947-989a-4c22-91fc-a124cf7a9e54",
   "metadata": {},
   "outputs": [],
   "source": [
    "import optuna\n",
    "from sklearn.svm import SVR\n",
    "from sklearn.model_selection import train_test_split\n",
    "from sklearn.metrics import mean_squared_error, r2_score\n",
    "from sklearn.preprocessing import StandardScaler\n",
    "\n",
    "# Assuming X and y are already prepared and cleaned\n",
    "# X_train, X_test, y_train, y_test = train_test_split(X, y, test_size=0.2, random_state=42)\n",
    "\n",
    "# Scaling the features\n",
    "scaler_X = StandardScaler()\n",
    "scaler_y = StandardScaler()\n",
    "\n",
    "X_train_scaled = scaler_X.fit_transform(X_train)\n",
    "X_test_scaled = scaler_X.transform(X_test)\n",
    "\n",
    "y_train_scaled = scaler_y.fit_transform(y_train.values.reshape(-1, 1)).flatten()\n",
    "y_test_scaled = scaler_y.transform(y_test.values.reshape(-1, 1)).flatten()\n",
    "\n",
    "# Define the objective function for Optuna\n",
    "def objective(trial):\n",
    "    # Hyperparameter space to explore\n",
    "    C = trial.suggest_loguniform('C', 1e-5, 1e5)  # Regularization parameter\n",
    "    epsilon = trial.suggest_uniform('epsilon', 0.01, 0.1)  # Epsilon\n",
    "    kernel = trial.suggest_categorical('kernel', ['linear', 'rbf', 'poly'])  # Kernel type\n",
    "\n",
    "    # Initialize the SVR model with the hyperparameters chosen by Optuna\n",
    "    svr_model = SVR(kernel=kernel, C=C, epsilon=epsilon)\n",
    "    \n",
    "    # Train the model\n",
    "    svr_model.fit(X_train_scaled, y_train_scaled)\n",
    "    \n",
    "    # Make predictions\n",
    "    y_pred_scaled = svr_model.predict(X_test_scaled)\n",
    "    \n",
    "    # Inverse transform the scaled predictions and true values\n",
    "    y_pred = scaler_y.inverse_transform(y_pred_scaled.reshape(-1, 1))\n",
    "    y_test_orig = scaler_y.inverse_transform(y_test_scaled.reshape(-1, 1))\n",
    "\n",
    "    # Calculate RMSE\n",
    "    rmse = mean_squared_error(y_test_orig, y_pred, squared=False)\n",
    "    \n",
    "    # Return the RMSE as the objective to minimize\n",
    "    return rmse\n",
    "\n",
    "# Create a study object to optimize the objective function\n",
    "study = optuna.create_study(direction='minimize')  # Minimize RMSE\n",
    "study.optimize(objective, n_trials=50)  # Perform 50 trials\n",
    "\n",
    "# Get the best hyperparameters found by Optuna\n",
    "best_params = study.best_params\n",
    "print(\"Best hyperparameters found: \", best_params)\n",
    "\n",
    "# Train the model with the best parameters\n",
    "best_model = SVR(kernel=best_params['kernel'], C=best_params['C'], epsilon=best_params['epsilon'])\n",
    "best_model.fit(X_train_scaled, y_train_scaled)\n",
    "\n",
    "# Make predictions with the best model\n",
    "y_pred_scaled = best_model.predict(X_test_scaled)\n",
    "\n",
    "# Inverse transform the predictions and true values\n",
    "y_pred = scaler_y.inverse_transform(y_pred_scaled.reshape(-1, 1))\n",
    "y_test_orig = scaler_y.inverse_transform(y_test_scaled.reshape(-1, 1))\n",
    "\n",
    "# Evaluate the final model\n",
    "rmse = mean_squared_error(y_test_orig, y_pred, squared=False)\n",
    "r2 = r2_score(y_test_orig, y_pred)\n",
    "\n",
    "print(f'Final RMSE: {rmse}')\n",
    "print(f'Final R-squared: {r2}')"
   ]
  },
  {
   "cell_type": "code",
   "execution_count": null,
   "id": "a30385d2-bcef-4d03-97c4-54151f991997",
   "metadata": {},
   "outputs": [],
   "source": [
    "# Create a neural network that takes predictions from base models as input"
   ]
  },
  {
   "cell_type": "code",
   "execution_count": null,
   "id": "fe70c0a9-6e3f-436c-9463-e0226de4e312",
   "metadata": {},
   "outputs": [],
   "source": [
    "import numpy as np\n",
    "from sklearn.svm import SVR\n",
    "from sklearn.ensemble import RandomForestRegressor\n",
    "import xgboost as xgb\n",
    "from sklearn.model_selection import train_test_split\n",
    "from sklearn.metrics import mean_squared_error, r2_score\n",
    "from sklearn.preprocessing import StandardScaler\n",
    "\n",
    "# Assuming X_train, X_test, y_train, y_test are ready\n",
    "# Scaling the data\n",
    "scaler_X = StandardScaler()\n",
    "scaler_y = StandardScaler()\n",
    "\n",
    "X_train_scaled = scaler_X.fit_transform(X_train)\n",
    "X_test_scaled = scaler_X.transform(X_test)\n",
    "\n",
    "y_train_scaled = scaler_y.fit_transform(y_train.values.reshape(-1, 1)).flatten()\n",
    "y_test_scaled = scaler_y.transform(y_test.values.reshape(-1, 1)).flatten()\n",
    "\n",
    "# Train SVR\n",
    "svr_model = SVR(kernel='rbf', C=100, epsilon=0.1)\n",
    "svr_model.fit(X_train_scaled, y_train_scaled)\n",
    "svr_train_pred = svr_model.predict(X_train_scaled)\n",
    "svr_test_pred = svr_model.predict(X_test_scaled)\n",
    "\n",
    "# Train Random Forest\n",
    "rf_model = RandomForestRegressor(n_estimators=100, random_state=42)\n",
    "rf_model.fit(X_train_scaled, y_train_scaled)\n",
    "rf_train_pred = rf_model.predict(X_train_scaled)\n",
    "rf_test_pred = rf_model.predict(X_test_scaled)\n",
    "\n",
    "# Train XGBoost\n",
    "xg_model = xgb.XGBRegressor(n_estimators=100, random_state=42)\n",
    "xg_model.fit(X_train_scaled, y_train_scaled)\n",
    "xg_train_pred = xg_model.predict(X_train_scaled)\n",
    "xg_test_pred = xg_model.predict(X_test_scaled)\n",
    "\n",
    "# Stack the predictions to create a new feature set for the neural network\n",
    "X_train_stack = np.column_stack((svr_train_pred, rf_train_pred, xg_train_pred))\n",
    "X_test_stack = np.column_stack((svr_test_pred, rf_test_pred, xg_test_pred))\n",
    "\n",
    "# Check stacked features\n",
    "print(\"Stacked training set shape:\", X_train_stack.shape)\n",
    "print(\"Stacked testing set shape:\", X_test_stack.shape)\n"
   ]
  },
  {
   "cell_type": "code",
   "execution_count": null,
   "id": "6b869360-0de0-4c20-a70f-3d7fce835acc",
   "metadata": {},
   "outputs": [],
   "source": [
    "# 2. Train a Neural Network on These Features:\n",
    "from keras.models import Sequential\n",
    "from keras.layers import Dense\n",
    "from keras.optimizers import Adam\n",
    "\n",
    "# Initialize the neural network model\n",
    "nn_model = Sequential()\n",
    "\n",
    "# Add input layer\n",
    "nn_model.add(Dense(64, input_dim=X_train_stack.shape[1], activation='relu'))\n",
    "\n",
    "# Add hidden layers\n",
    "nn_model.add(Dense(32, activation='relu'))\n",
    "nn_model.add(Dense(16, activation='relu'))\n",
    "\n",
    "# Add output layer\n",
    "nn_model.add(Dense(1))  # Single output for regression task\n",
    "\n",
    "# Compile the model\n",
    "nn_model.compile(optimizer=Adam(learning_rate=0.001), loss='mean_squared_error')\n",
    "\n",
    "# Train the model\n",
    "nn_model.fit(X_train_stack, y_train_scaled, epochs=50, batch_size=32, validation_data=(X_test_stack, y_test_scaled))\n",
    "\n",
    "# Make predictions with the neural network model\n",
    "nn_train_pred = nn_model.predict(X_train_stack)\n",
    "nn_test_pred = nn_model.predict(X_test_stack)\n",
    "\n",
    "# Inverse transform the scaled predictions\n",
    "y_train_pred = scaler_y.inverse_transform(nn_train_pred)\n",
    "y_test_pred = scaler_y.inverse_transform(nn_test_pred)\n",
    "\n",
    "# Evaluate the model\n",
    "rmse = mean_squared_error(y_test, y_test_pred, squared=False)\n",
    "r2 = r2_score(y_test, y_test_pred)\n",
    "\n",
    "print(f\"RMSE: {rmse}\")\n",
    "print(f\"R-squared: {r2}\")\n"
   ]
  },
  {
   "cell_type": "code",
   "execution_count": null,
   "id": "94718ad3-729e-457c-b1d0-8c47fac3a91d",
   "metadata": {},
   "outputs": [],
   "source": [
    "# Implement hyperparameter optimization for the meta-learner"
   ]
  },
  {
   "cell_type": "code",
   "execution_count": null,
   "id": "a1e36521-dc9c-4e07-8c0e-3bdb35b24aa8",
   "metadata": {},
   "outputs": [],
   "source": [
    "pip install keras-tuner\n",
    "\n",
    "#  Define the Hyperparameter Space and Model for Tuning:\n",
    "import keras_tuner as kt\n",
    "from keras.models import Sequential\n",
    "from keras.layers import Dense\n",
    "from keras.optimizers import Adam\n",
    "\n",
    "# Function to build and compile the neural network model with hyperparameters\n",
    "def build_model(hp):\n",
    "    # Initialize the model\n",
    "    model = Sequential()\n",
    "\n",
    "    # Add the input layer with a hyperparameter-controlled number of neurons\n",
    "    model.add(Dense(units=hp.Int('units', min_value=32, max_value=128, step=32), \n",
    "                    input_dim=X_train_stack.shape[1], activation='relu'))\n",
    "\n",
    "    # Add hidden layers with a hyperparameter-controlled number of layers and units\n",
    "    for i in range(hp.Int('num_layers', 1, 3)):  # Number of hidden layers between 1 and 3\n",
    "        model.add(Dense(units=hp.Int('units_' + str(i), min_value=32, max_value=128, step=32), activation='relu'))\n",
    "\n",
    "    # Add the output layer\n",
    "    model.add(Dense(1))  # Output layer for regression task\n",
    "\n",
    "    # Compile the model\n",
    "    model.compile(optimizer=Adam(learning_rate=hp.Float('learning_rate', min_value=1e-5, max_value=1e-2, sampling='LOG')), \n",
    "                  loss='mean_squared_error')\n",
    "    \n",
    "    return model\n",
    "\n",
    "# Set Up Keras Tuner to Search for the Best Hyperparameters:\n",
    "\n",
    "# Initialize the Hyperband tuner with the build_model function\n",
    "tuner = kt.Hyperband(\n",
    "    build_model,  # Function to build the model\n",
    "    objective='val_loss',  # The metric to optimize (validation loss)\n",
    "    max_epochs=10,  # Max number of epochs per trial\n",
    "    factor=3,  # Determines the number of trials at each level\n",
    "    directory='kt_dir',  # Directory to store tuner results\n",
    "    project_name='nn_meta_model_tuning'  # Project name\n",
    ")\n",
    "\n",
    "# Perform the hyperparameter search\n",
    "tuner.search(X_train_stack, y_train_scaled, epochs=10, validation_data=(X_test_stack, y_test_scaled))\n",
    "\n",
    "# Get the best model\n",
    "best_model = tuner.get_best_models(num_models=1)[0]\n",
    "\n",
    "# Print the best hyperparameters\n",
    "best_hyperparameters = tuner.get_best_hyperparameters(num_models=1)[0]\n",
    "print(\"Best Hyperparameters:\", best_hyperparameters.values)\n"
   ]
  },
  {
   "cell_type": "code",
   "execution_count": null,
   "id": "c19a870e-486a-4174-bab4-490dfbf2bcb4",
   "metadata": {},
   "outputs": [],
   "source": [
    "# Evaluate the best model on the test set\n",
    "y_test_pred = best_model.predict(X_test_stack)\n",
    "y_test_pred = scaler_y.inverse_transform(y_test_pred)  # Inverse transform the predictions\n",
    "\n",
    "# Evaluate performance\n",
    "rmse = mean_squared_error(y_test, y_test_pred, squared=False)\n",
    "r2 = r2_score(y_test, y_test_pred)\n",
    "\n",
    "print(f'RMSE: {rmse}')\n",
    "print(f'R-squared: {r2}')\n"
   ]
  }
 ],
 "metadata": {
  "kernelspec": {
   "display_name": "Python 3 (ipykernel)",
   "language": "python",
   "name": "python3"
  },
  "language_info": {
   "codemirror_mode": {
    "name": "ipython",
    "version": 3
   },
   "file_extension": ".py",
   "mimetype": "text/x-python",
   "name": "python",
   "nbconvert_exporter": "python",
   "pygments_lexer": "ipython3",
   "version": "3.11.7"
  }
 },
 "nbformat": 4,
 "nbformat_minor": 5
}
